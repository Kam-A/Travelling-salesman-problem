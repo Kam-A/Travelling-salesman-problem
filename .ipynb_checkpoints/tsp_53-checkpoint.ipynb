{
 "cells": [
  {
   "cell_type": "markdown",
   "metadata": {},
   "source": [
    "# Your solution"
   ]
  },
  {
   "cell_type": "code",
   "execution_count": 108,
   "metadata": {},
   "outputs": [],
   "source": [
    "import numpy as np\n",
    "from itertools import combinations\n",
    "import matplotlib.pyplot as ppl\n",
    "import copy\n",
    "import random\n",
    "import time\n",
    "import math\n",
    "import networkx as nx\n",
    "from networkx.algorithms.matching import max_weight_matching\n",
    "from networkx.algorithms.euler import eulerian_circuit\n",
    "def run_tsp(points, queue):\n",
    "    queue.put(tsp(points))\n",
    "\n",
    "\n",
    "def test(points, baseline_path, short_path):\n",
    "    \"\"\"Test the tsp function on points.\n",
    "    \n",
    "    baseline_path is the length of a simple solution.\n",
    "    short_path is the length of a good solution.\n",
    "    \n",
    "    Your solution should run for at most 30 seconds\n",
    "    and should return a path of length less than than baseline_path\n",
    "    (the only exception is when baseline_path is almost equal to short_path;\n",
    "    in this case, it is OK to return a path of similar length).\n",
    "    The score you get depends on how short your path is. The score is the returned value of the function.\n",
    "    \n",
    "    \"\"\"\n",
    "    print(\"Baseline path: \", baseline_path)\n",
    "    print(\"Short path: \", short_path)\n",
    "    n = points[0]\n",
    "\n",
    "    path = tsp(points)\n",
    "    \n",
    "    assert len(path) == n + 1, \"The route must contain n + 1 points.\"\n",
    "    assert path[0] == 1 == path[-1], \"The route should start and end at point 1.\"\n",
    "    assert set(path) == set(range(1, n + 1)), \"The route must contain all n points.\"\n",
    "\n",
    "    length = get_length(path, points)\n",
    "    print(\"Your path: \", length)\n",
    "    if length <= short_path + 0.00001: # If your path is just slightly longer than short_path or shorter, you get 10. \n",
    "        return 10.0    \n",
    "    if length >= baseline_path: # If it is the same as the baseline or longer, you get 1.\n",
    "        return 1\n",
    "    # Otherwise, the number of points you get depends on how close your path is to short_path.\n",
    "    return math.ceil((baseline_path-length) / (baseline_path-short_path) * 10)\n",
    "    \n",
    "\n",
    "# Square 1 x 1. Your algorithm is expected to find a shortest tour, e.g., [1, 3, 2, 4, 1].\n",
    "def distance(p, q):\n",
    "    return ((p[0]-q[0])**2 + (p[1]-q[1])**2) ** 0.5\n",
    "\n",
    "\n",
    "def get_length(path, points):\n",
    "    return sum(distance(points[path[i]], points[path[i+1]]) for i in range(len(path) - 1))\n",
    "\n",
    "def points_to_matrix(points):\n",
    "    g=[]\n",
    "    for x,y in points:\n",
    "        g.append([0] * len(points))\n",
    "        for i in range(len(points)):\n",
    "            g[-1][i] = ((x-points[i][0])**2 + (y - points[i][1])**2)**(1/2)\n",
    "    return g\n",
    "def get_nearest(g,s):\n",
    "    #print(g[s][0:s] + g[s][s+1:])\n",
    "    min_el = min(g[s][0:s] + g[s][s+1:])\n",
    "    #print(f'min_el {g[s][0:s] + g[s][s+1:]}')\n",
    "    for i,j in enumerate(g[s][0:s] + g[s][s+1:]):\n",
    "        if j == min_el:\n",
    "            #print(f'i = {i}')\n",
    "            if i >= s:\n",
    "                return i + 1\n",
    "            else:\n",
    "                return i\n",
    "def delete_vertex(g,s):\n",
    "    for i in range(len(g)):\n",
    "        g[s][i] = math.inf\n",
    "        g[i][s] = math.inf"
   ]
  },
  {
   "cell_type": "code",
   "execution_count": 109,
   "metadata": {},
   "outputs": [],
   "source": [
    "def get_half_n_neib(g,node):\n",
    "    res = dict()\n",
    "    for i in range(len(g[node])):\n",
    "        if i == node:\n",
    "            continue\n",
    "        res[i] = g[node][i]\n",
    "    lst_idx = [k + 1 for k,v in sorted(res.items(),key=lambda item:item[1])]\n",
    "    return lst_idx[:len(g)//2]\n",
    "def make_change_mire(decision,g):\n",
    "    first_cut = random.randint(1,len(decision) - 1)\n",
    "    first_cut_for_mx = first_cut - 1\n",
    "    lst_neib = get_half_n_neib(g,first_cut_for_mx)\n",
    "    sec_cut = random.choice(lst_neib)\n",
    "    while True:\n",
    "        third_cut = random.choice(lst_neib)\n",
    "        if third_cut != sec_cut:\n",
    "            break\n",
    "    cuts  = sorted([first_cut,sec_cut,third_cut])\n",
    "    subtour_1 = decision[1:cuts[0]]\n",
    "    subtour_2 = decision[cuts[0]:cuts[1]]\n",
    "    subtour_3 = decision[cuts[1]:cuts[2]]\n",
    "    subtour_4 = decision[cuts[2]:-1]\n",
    "    #print([decision[0]] + subtour_4 + subtour_3 + subtour_2 + subtour_1 + [decision[-1]])\n",
    "    #print(decision)\n",
    "    return [decision[0]] + subtour_4 + subtour_3 + subtour_2 + subtour_1 + [decision[-1]]\n",
    "\n",
    "def make_change(decision):\n",
    "    first_cut = random.randint(1,len(decision) - 1)\n",
    "    while True:\n",
    "        sec_cut = random.randint(1,len(decision) - 1)\n",
    "        if sec_cut != first_cut:\n",
    "            break\n",
    "    while True:\n",
    "        third_cut = random.randint(1,len(decision) - 1)\n",
    "        if third_cut != first_cut and third_cut != sec_cut:\n",
    "            break\n",
    "    cuts  = sorted([first_cut,sec_cut,third_cut])\n",
    "    subtour_1 = decision[1:cuts[0]]\n",
    "    subtour_2 = decision[cuts[0]:cuts[1]]\n",
    "    subtour_3 = decision[cuts[1]:cuts[2]]\n",
    "    subtour_4 = decision[cuts[2]:-1]\n",
    "    return [decision[0]] + subtour_4 + subtour_3 + subtour_2 + subtour_1 + [decision[-1]]\n",
    "\n",
    "\n",
    "def make_start_sol_greddy(points):\n",
    "    points = points[1:]\n",
    "    res = []\n",
    "    g = points_to_matrix(points)\n",
    "    s = 0\n",
    "    res.append(s + 1)\n",
    "    for i in range(len(g)-1):\n",
    "        next_s = get_nearest(g,s)\n",
    "        delete_vertex(g,s)\n",
    "        s = next_s\n",
    "        res.append(s + 1)\n",
    "    res.append(1)\n",
    "    return res\n"
   ]
  },
  {
   "cell_type": "code",
   "execution_count": 110,
   "metadata": {},
   "outputs": [],
   "source": [
    "def restore_idx(lst_match,vert_idx,num_of_vert):\n",
    "    res = []\n",
    "    for x in lst_match:\n",
    "        res.append((vert_idx[x[0]],vert_idx[x[1]]))\n",
    "    return res\n",
    "def get_tree_by_color(dict_of_edge,color):\n",
    "    res = []\n",
    "    for edge,col in dict_of_edge.items():\n",
    "        if col == color:\n",
    "            res.append(edge)\n",
    "    return res\n",
    "\n",
    "def edge_dict_from_matrix(g):\n",
    "    edge_dict = {}\n",
    "    for x in range(len(g)):\n",
    "        for y in range(len(g)):\n",
    "            if (x,y) not in edge_dict and (y,x) not in edge_dict and g[x][y] != 0:\n",
    "                edge_dict[(x,y)] = g[x][y]\n",
    "    return edge_dict\n",
    "\n",
    "def count_accur(edge_lst,node):\n",
    "    count = 0\n",
    "    for x in edge_lst:\n",
    "        if node in x:\n",
    "            count+=1\n",
    "    return count\n",
    "def kruskal(g):\n",
    "    if len(g) == 1:\n",
    "        return []\n",
    "    edge_dict = edge_dict_from_matrix(g)\n",
    "    colored_nodes = {}\n",
    "    colored_edges = {}\n",
    "    marker_color = 0\n",
    "    for w in sorted(edge_dict, key=edge_dict.get):\n",
    "        #print(w, edge_dict[w])\n",
    "        if w[0] not in colored_nodes.keys() and w[1] not in colored_nodes.keys():\n",
    "            #print(f'new edges new nodes {w} mark it {marker_color}')\n",
    "            colored_nodes[w[0]] = marker_color\n",
    "            colored_nodes[w[1]] = marker_color\n",
    "            colored_edges[w] = marker_color\n",
    "            marker_color=marker_color+1\n",
    "        elif w[0] not in colored_nodes.keys() and w[1] in colored_nodes.keys():\n",
    "            #print(f'w[0] = {w[0]} not in nodes, w[1]={w[1]} in ')\n",
    "            colored_nodes[w[0]] = colored_nodes[w[1]]\n",
    "            colored_edges[w] =  colored_nodes[w[1]]\n",
    "        elif w[0] in colored_nodes.keys() and w[1] not in colored_nodes.keys():\n",
    "            #print(f'w[0] = {w[0]} in nodes, w[1]={w[1]} not  in ')\n",
    "            colored_nodes[w[1]] = colored_nodes[w[0]]\n",
    "            colored_edges[w] =  colored_nodes[w[0]]\n",
    "        else:\n",
    "            if colored_nodes[w[0]] == colored_nodes[w[1]]:\n",
    "                #print(f'got cycle for {w}')\n",
    "                continue\n",
    "            else:\n",
    "                #print(f'lets merge because of {w}')\n",
    "                tree_first = get_tree_by_color(colored_edges,colored_nodes[w[0]])\n",
    "                tree_sec = get_tree_by_color(colored_edges,colored_nodes[w[1]])\n",
    "                len_first = len(tree_first)\n",
    "                len_second = len(tree_sec)\n",
    "                if len_first > len_second:\n",
    "                    #recolor nodes w[1] -> w[0]\n",
    "                    color_for_change = colored_nodes[w[1]]\n",
    "                    for node,col in colored_nodes.items():\n",
    "                        if col == color_for_change:\n",
    "                            colored_nodes[node] = colored_nodes[w[0]]\n",
    "                    #recolor edges from w[1] -> w[0]\n",
    "                    for x in tree_sec:\n",
    "                        colored_edges[x] = colored_nodes[w[0]]\n",
    "                    colored_edges[w] = colored_nodes[w[0]]\n",
    "                else:\n",
    "                    #recolor nodes w[0] -> w[1]\n",
    "                    color_for_change = colored_nodes[w[0]]\n",
    "                    for node,col in colored_nodes.items():\n",
    "                        if col == color_for_change:\n",
    "                            colored_nodes[node] = colored_nodes[w[1]]\n",
    "                    #recolor edges from w[0] -> w[1]\n",
    "                    for x in tree_first:\n",
    "                        colored_edges[x] = colored_nodes[w[1]]\n",
    "                    colored_edges[w] = colored_nodes[w[1]]\n",
    "    #print(colored_edges)\n",
    "    return [x for x in colored_edges.keys()]\n",
    "def get_odd_degree_vertex(edge_lst,nodes):\n",
    "    res = []\n",
    "    res_idx = []\n",
    "    for x in range(len(nodes)):\n",
    "        if count_accur(edge_lst,x) % 2 != 0:\n",
    "            res.append(nodes[x])\n",
    "            res_idx.append(x)\n",
    "    return res,res_idx\n",
    "\n",
    "\n",
    "def make_graph_full(verteses,graph):\n",
    "    for j in verteses:\n",
    "        for i in range(len(graph)):\n",
    "            graph[j][i] = 0\n",
    "        for i in range(len(graph)):\n",
    "            graph[i][j] = 0\n",
    "    return graph\n",
    "def find_edge_by_vertex(edges,vert):\n",
    "    for i in range(len(edges)):\n",
    "        if vert in edges[i]:\n",
    "            return i\n",
    "    return False\n",
    "\n",
    "def dfs(v,graph,visited,res):\n",
    "    #print(v)\n",
    "    visited[v] = True\n",
    "    res.append(v)\n",
    "    #print(f\"visited vertice V! {v}\")\n",
    "    for x in graph:\n",
    "        if v == x[0]:\n",
    "            if not visited[x[1]]:\n",
    "                dfs(x[1],graph,visited,res)\n",
    "        if v == x[1]:\n",
    "            if not visited[x[0]]:\n",
    "                dfs(x[0],graph,visited,res)\n",
    "\n",
    "def find_eucl_cycle(graph,n):   \n",
    "    visited = []\n",
    "    visited = [False for i in range(n)]\n",
    "    res = []\n",
    "    dfs(0,graph,visited,res)\n",
    "    return res +[0]\n",
    "def make_start_sol_kruskal(points):\n",
    "    origin_p = points\n",
    "    points = points[1:]\n",
    "    g = points_to_matrix(points)\n",
    "    min_span_tree = kruskal(g)\n",
    "    odd_degree_vertex,vert_idx = get_odd_degree_vertex(min_span_tree,points)\n",
    "    g_new = points_to_matrix(odd_degree_vertex)\n",
    "    g_nx = nx.Graph()\n",
    "    for i in range(len(g_new)):\n",
    "        for j in range(len(g_new)):\n",
    "            if i == j:\n",
    "                continue\n",
    "            g_nx.add_weighted_edges_from([(i,j,-g_new[i][j])])\n",
    "    match_slow = nx.max_weight_matching(g_nx,True)\n",
    "    match_slow = restore_idx(list(match_slow),vert_idx,len(g_new))\n",
    "    merge_edges_g = min_span_tree + match_slow\n",
    "    idx_of_path = find_eucl_cycle(merge_edges_g,len(points))\n",
    "    short = [x + 1 for x in idx_of_path]\n",
    "    return short\n",
    "def make_start_sol_kruskal_light(points):\n",
    "    origin_p = points\n",
    "    points = points[1:]\n",
    "    g = points_to_matrix(points)\n",
    "    min_span_tree = kruskal(g)\n",
    "    idx_of_path = find_eucl_cycle(min_span_tree,len(points))\n",
    "    short = [x + 1 for x in idx_of_path]\n",
    "    return short"
   ]
  },
  {
   "cell_type": "code",
   "execution_count": 130,
   "metadata": {},
   "outputs": [],
   "source": [
    "def twooptswap(route,i,k):\n",
    "    #print(i,k)\n",
    "    #print(route)\n",
    "    res = route[:i]#copy.deepcopy(route)\n",
    "    #print(route[i:k + 1])\n",
    "    res += route[i:k + 1][::-1]\n",
    "    res += route[k+1:]\n",
    "    return res\n",
    "def three_opt(p, broad=False):\n",
    "    \"\"\"In the broad sense, 3-opt means choosing any three edges ab, cd\n",
    "    and ef and chopping them, and then reconnecting (such that the\n",
    "    result is still a complete tour). There are eight ways of doing\n",
    "    it. One is the identity, 3 are 2-opt moves (because either ab, cd,\n",
    "    or ef is reconnected), and 4 are 3-opt moves (in the narrower\n",
    "    sense).\"\"\"\n",
    "    n = len(p)\n",
    "    # choose 3 unique edges defined by their first node\n",
    "    a, c, e = random.sample(range(n+1), 3)\n",
    "    # without loss of generality, sort\n",
    "    a, c, e = sorted([a, c, e])\n",
    "    b, d, f = a+1, c+1, e+1\n",
    "\n",
    "    if broad == True:\n",
    "        which = random.randint(0, 7) # allow any of the 8\n",
    "    else:\n",
    "        which = random.choice([3, 4, 5, 6]) # allow only strict 3-opt\n",
    "\n",
    "    # in the following slices, the nodes abcdef are referred to by\n",
    "    # name. x:y:-1 means step backwards. anything like c+1 or d-1\n",
    "    # refers to c or d, but to include the item itself, we use the +1\n",
    "    # or -1 in the slice\n",
    "    if which == 0:\n",
    "        sol = p[:a+1] + p[b:c+1]    + p[d:e+1]    + p[f:] # identity\n",
    "    elif which == 1:\n",
    "        sol = p[:a+1] + p[b:c+1]    + p[e:d-1:-1] + p[f:] # 2-opt\n",
    "    elif which == 2:\n",
    "        sol = p[:a+1] + p[c:b-1:-1] + p[d:e+1]    + p[f:] # 2-opt\n",
    "    elif which == 3:\n",
    "        sol = p[:a+1] + p[c:b-1:-1] + p[e:d-1:-1] + p[f:] # 3-opt\n",
    "    elif which == 4:\n",
    "        sol = p[:a+1] + p[d:e+1]    + p[b:c+1]    + p[f:] # 3-opt\n",
    "    elif which == 5:\n",
    "        sol = p[:a+1] + p[d:e+1]    + p[c:b-1:-1] + p[f:] # 3-opt\n",
    "    elif which == 6:\n",
    "        sol = p[:a+1] + p[e:d-1:-1] + p[b:c+1]    + p[f:] # 3-opt\n",
    "    elif which == 7:\n",
    "        sol = p[:a+1] + p[e:d-1:-1] + p[c:b-1:-1] + p[f:] # 2-opt\n",
    "\n",
    "    return sol\n",
    "def local_search(decision,points):\n",
    "    sh_len = len(decision)\n",
    "    curr_sol = get_length(decision,points)\n",
    "    #print(f'curr_sol {curr_sol}')\n",
    "    for i in range(1,sh_len - 1):\n",
    "        for k in range(i + 1, sh_len -1):\n",
    "            swap_short = twooptswap(decision,i,k)\n",
    "            len_path = get_length(swap_short,points)\n",
    "            if len_path < curr_sol:\n",
    "                #print('smaller sol')\n",
    "                decision = swap_short\n",
    "                curr_sol = len_path\n",
    "                #print(len_path)\n",
    "                #return decision\n",
    "    return decision\n",
    "def local_search_time(decision,points,limit=5):\n",
    "    sh_len = len(decision)\n",
    "    curr_sol = get_length(decision,points)\n",
    "    #print(f'curr_sol {curr_sol}')\n",
    "    el_tome = time.time()\n",
    "    for i in range(1,sh_len - 1):\n",
    "        for k in range(i + 1, sh_len -1):\n",
    "            swap_short = twooptswap(decision,i,k)\n",
    "            len_path = get_length(swap_short,points)\n",
    "            if len_path < curr_sol:\n",
    "                #print('smaller sol')\n",
    "                decision = swap_short\n",
    "                curr_sol = len_path\n",
    "                #print(len_path)\n",
    "                #return decision\n",
    "            if time.time() - el_tome> limit:\n",
    "                return decision\n",
    "    return decision\n",
    "def local_search_time_rand_start(decision,points,limit=5):\n",
    "    sh_len = len(decision)\n",
    "    curr_sol = get_length(decision,points)\n",
    "    start = random.randint(1,(sh_len-2)//2)\n",
    "    el_tome = time.time()\n",
    "    for i in range(start,sh_len - 1):\n",
    "        for k in range(i + 1, sh_len -1):\n",
    "            swap_short = _swap_2opt(decision,i,k)\n",
    "            len_path = get_length(swap_short,points)\n",
    "            if len_path < curr_sol:\n",
    "                #print('smaller sol')\n",
    "                decision = swap_short\n",
    "                curr_sol = len_path\n",
    "                #print(len_path)\n",
    "                #return decision\n",
    "            if time.time() - el_tome> limit:\n",
    "                return decision\n",
    "    return decision\n",
    "def local_search_part(decision,points):\n",
    "    sh_len = len(decision)\n",
    "    curr_sol = get_length(decision,points)\n",
    "    #print(f'curr_sol {curr_sol}')\n",
    "    impr = False\n",
    "    for i in range(1,sh_len - 1):\n",
    "        for k in range(i + 1, sh_len -1):\n",
    "            swap_short = twooptswap(decision,i,k)\n",
    "            len_path = get_length(swap_short,points)\n",
    "            if len_path < curr_sol:\n",
    "                decision = swap_short\n",
    "                curr_sol = len_path\n",
    "        if impr:\n",
    "            return decision\n",
    "    return decision"
   ]
  },
  {
   "cell_type": "code",
   "execution_count": 131,
   "metadata": {},
   "outputs": [],
   "source": [
    "def _swap_2opt(route, i, k):\n",
    "    \"\"\" Swapping the route \"\"\"\n",
    "    new_route = route[0:i]\n",
    "    new_route.extend(reversed(route[i:k + 1]))\n",
    "    new_route.extend(route[k + 1:])\n",
    "    return new_route\n",
    "\n",
    "\n",
    "def local_search_not(points, route):\n",
    "    improved = True\n",
    "    best_found_route = route\n",
    "    best_found_route_cost = get_length(best_found_route,points)#route_cost(graph, best_found_route)\n",
    "    while improved:\n",
    "        improved = False\n",
    "        for i in range(1, len(best_found_route) - 1):\n",
    "            for k in range(i + 1, len(best_found_route) - 1):\n",
    "                new_route = _swap_2opt(best_found_route, i, k)\n",
    "                new_route_cost = get_length(new_route,points)#route_cost(graph, new_route)\n",
    "                if new_route_cost < best_found_route_cost:\n",
    "                    best_found_route_cost = new_route_cost\n",
    "                    best_found_route = new_route\n",
    "                    improved = True\n",
    "                    break\n",
    "            if improved:\n",
    "                break\n",
    "    return best_found_route\n",
    "def local_search_not_coef(points, route,coef=1):\n",
    "    improved = True\n",
    "    best_found_route = route\n",
    "    best_found_route_cost = get_length(best_found_route,points)#route_cost(graph, best_found_route)\n",
    "    while improved:\n",
    "        improved = False\n",
    "        for i in range(1, len(best_found_route) - 1):\n",
    "            for k in range(i + 1, len(best_found_route) - 1):\n",
    "                new_route = _swap_2opt(best_found_route, i, k)\n",
    "                new_route_cost = get_length(new_route,points)#route_cost(graph, new_route)\n",
    "                if new_route_cost * coef <= best_found_route_cost:\n",
    "                    print('imporeve wiht cief')\n",
    "                    best_found_route_cost = new_route_cost\n",
    "                    best_found_route = new_route\n",
    "                    improved = True\n",
    "                    break\n",
    "            if improved:\n",
    "                break\n",
    "    return best_found_route"
   ]
  },
  {
   "cell_type": "code",
   "execution_count": 147,
   "metadata": {},
   "outputs": [],
   "source": [
    "def tsp_45(points):\n",
    "    # get init value:\n",
    "    init_sol = make_start_sol_greddy(points)\n",
    "    for i in range(500):\n",
    "        init_sol_1 = make_change(init_sol)\n",
    "        init_sol_2 = local_search(init_sol_1,points)\n",
    "        if get_length(init_sol_2,points) <= get_length(init_sol,points):\n",
    "            init_sol = init_sol_2\n",
    "    return init_sol\n",
    "def tsp_90(points):\n",
    "    init_sol = make_start_sol_greddy(points)\n",
    "    for i in range(80):\n",
    "        init_sol_1 = make_change(init_sol)\n",
    "        init_sol_2 = local_search(init_sol_1,points)\n",
    "        if get_length(init_sol_2,points) <= get_length(init_sol,points):\n",
    "            init_sol = init_sol_2\n",
    "    return init_sol\n",
    "def tsp_100_plus(points):# for this can use tsp_90 with greedy_make_start 8 pts\n",
    "    init_sol = make_start_sol_kruskal(points)\n",
    "    init_sol = local_search(init_sol,points)\n",
    "    for i in range(2):\n",
    "        init_sol_1 = make_change(init_sol)\n",
    "        init_sol_2 = local_search_not(points,init_sol_1)\n",
    "        if get_length(init_sol_2,points) <= get_length(init_sol,points):\n",
    "            print(f\"{i} good one\")\n",
    "            init_sol = init_sol_2\n",
    "    return init_sol\n",
    "def tsp_200_plus(points):\n",
    "    init_sol = make_start_sol_kruskal(points)\n",
    "    init_sol = local_search(init_sol,points)\n",
    "    init_sol = local_search_not_coef(points,init_sol,1.005)\n",
    "    return init_sol\n",
    "def tsp(points):\n",
    "    if points[0] < 50:\n",
    "        return tsp_45(points)\n",
    "    if points[0] <= 100:\n",
    "        return tsp_90(points)\n",
    "    if points[0] <= 200:\n",
    "        return tsp_100_plus(points)\n",
    "    if points[0] <= 300:\n",
    "        return tsp_200_plus(points)\n",
    "    #if points[0] > 700:\n",
    "    #    return [0]\n",
    "    init_sol = make_start_sol_greddy(points)\n",
    "    #init_sol = local_search_time_rand_start(init_sol,points,25)\n",
    "    for i in range(10):\n",
    "        init_sol_1 = init_sol#three_opt(init_sol)##make_change(init_sol)\n",
    "        init_sol_2 = local_search_time_rand_start(init_sol_1,points,1)\n",
    "        if get_length(init_sol_2,points) <= get_length(init_sol,points):\n",
    "            #print(f\"{i} good one\")\n",
    "            init_sol = init_sol_2\n",
    "    return init_sol\n",
    "            "
   ]
  },
  {
   "cell_type": "code",
   "execution_count": 141,
   "metadata": {
    "deletable": false,
    "nbgrader": {
     "cell_type": "code",
     "checksum": "f063005f2b60c8c028cce011ed8b756c",
     "grade": false,
     "grade_id": "cell-73cf23cba2dc9e54",
     "locked": false,
     "schema_version": 3,
     "solution": true,
     "task": false
    }
   },
   "outputs": [
    {
     "name": "stdout",
     "output_type": "stream",
     "text": [
      "time = 26.068116664886475 \n",
      "shortest=48457.474332274636\n",
      "short curr=48428.58415549343\n"
     ]
    },
    {
     "data": {
      "image/png": "[encoded data removed]",
      "text/plain": [
       "<Figure size 432x288 with 1 Axes>"
      ]
     },
     "metadata": {
      "needs_background": "light"
     },
     "output_type": "display_data"
    }
   ],
   "source": [
    "points = [700, (-384, 128), (-558, -747), (-961, -627), (-156, -43), (-685, -166), (-52, -881), (984, -469), (668, -344), (504, 466), (-883, 610), (716, 345), (802, 756), (-822, -567), (509, 625), (-908, 288), (432, -950), (664, 547), (310, -775), (-222, 948), (-792, 446), (-237, -4), (-834, 520), (901, 371), (726, 924), (-182, -818), (-816, -903), (-334, -474), (571, 679), (-572, 332), (-359, -916), (-875, -891), (-861, 605), (584, -77), (-40, -728), (-378, 445), (-327, 205), (-101, -249), (90, -449), (270, -130), (46, -384), (757, 676), (322, -468), (205, -353), (23, -130), (-409, -472), (518, -79), (-270, 393), (308, -343), (-956, 433), (987, -267), (-231, -416), (-389, 372), (533, 259), (-764, 816), (-506, 187), (243, -909), (-821, -260), (-704, -556), (826, 533), (372, -150), (-957, 667), (-824, 933), (741, -144), (851, -113), (237, 119), (335, 385), (747, -886), (-137, 398), (-951, -571), (383, -194), (979, 147), (-976, -638), (357, 212), (511, 682), (-908, 722), (912, 305), (-649, 599), (876, 821), (-46, 850), (914, 378), (-827, 379), (-198, -663), (491, -995), (-642, 60), (-79, 477), (972, 449), (963, 80), (-159, 429), (979, 10), (2, 397), (666, 978), (700, 850), (-795, 580), (551, 6), (355, 596), (488, 842), (972, -57), (-102, -612), (-236, 392), (517, -231), (-909, 890), (141, -281), (669, -627), (-517, 233), (-184, 378), (179, -676), (847, 748), (-306, 120), (-195, -42), (785, 482), (835, -548), (946, -439), (-699, -416), (-339, 842), (525, 232), (-869, -405), (432, -398), (-593, 256), (-64, -524), (-845, 287), (-626, -591), (33, 171), (241, -540), (-462, 59), (-912, -791), (-872, 775), (48, -139), (12, 379), (944, 533), (826, -967), (39, -940), (869, 49), (-753, -764), (199, -16), (66, -785), (-197, -597), (212, -927), (358, -492), (-850, 124), (-969, 713), (-818, 234), (930, -740), (-326, 322), (758, -882), (256, 609), (503, -753), (224, 898), (-424, 993), (-520, -96), (48, 876), (-451, 825), (-903, -309), (-948, -918), (-827, -758), (131, 465), (-786, -295), (-152, 471), (-938, 855), (-624, -95), (-886, -133), (-438, -340), (705, 133), (734, -524), (604, 588), (211, -355), (990, -1), (352, 439), (748, -993), (-659, 351), (580, 531), (564, 824), (-713, 909), (-375, 362), (335, 912), (175, -213), (615, -617), (-703, 633), (-757, 444), (51, -547), (-648, -313), (-53, -564), (959, 581), (150, 29), (211, 42), (524, 684), (-39, 855), (735, -134), (-95, 656), (685, 250), (-475, -266), (623, -792), (449, -510), (518, 22), (493, 393), (-9, -615), (-409, -506), (365, 223), (417, 783), (-806, -400), (-772, 305), (-814, -736), (-686, -14), (-121, -69), (41, 778), (-819, 746), (118, 20), (134, 554), (897, 964), (926, -522), (150, -696), (-362, 243), (-333, 162), (-216, 840), (-881, 212), (98, 119), (421, -411), (744, 410), (591, 880), (-993, 440), (202, -895), (-41, -452), (529, -228), (-379, -837), (272, -472), (835, 682), (-444, 381), (-750, -140), (290, 199), (682, -467), (358, -24), (504, -535), (-902, -651), (644, -268), (-711, -365), (430, -421), (525, -556), (39, -450), (-571, 108), (729, 809), (-450, -86), (-738, -267), (900, 84), (-88, -498), (-887, -490), (-873, 416), (743, 748), (-415, -225), (-655, 420), (-75, -815), (424, -904), (775, -2), (-316, 988), (-220, 331), (705, 172), (-499, 353), (51, 512), (323, -120), (-522, -300), (-779, -594), (-177, 698), (347, 658), (203, -929), (-140, -173), (533, 201), (-22, 401), (321, -923), (-85, 3), (93, -386), (-314, -278), (563, 326), (230, -888), (276, -266), (-155, -166), (691, 81), (852, -501), (-375, 308), (-872, 559), (939, -840), (278, -935), (972, 774), (613, -270), (363, -639), (-721, 758), (985, -238), (-457, -7), (961, 871), (-208, 646), (-481, 671), (243, 384), (46, -31), (-334, 784), (-830, 587), (-436, 134), (746, 616), (-222, -733), (-303, 394), (908, -895), (-56, 284), (-913, 329), (-24, 384), (-689, -919), (-462, -39), (142, 321), (285, 16), (38, 298), (-456, -97), (-692, 27), (322, 907), (-155, 186), (987, 752), (-7, -224), (103, 261), (957, 13), (-906, -754), (-77, -461), (-254, 72), (-13, -913), (912, 900), (-903, 484), (493, -64), (827, -831), (572, -194), (206, -807), (349, -462), (-251, 559), (456, 822), (-551, 109), (851, 899), (-776, -804), (442, 20), (289, 343), (-800, -777), (-241, -437), (278, -214), (-1, 205), (-925, -555), (-734, -318), (889, -676), (666, -219), (127, 446), (-278, 9), (-906, -747), (164, -645), (961, 491), (-417, -353), (335, -56), (-895, 90), (19, -668), (-673, 345), (256, -36), (-717, -148), (807, 772), (-292, -413), (183, -641), (-186, 643), (929, 877), (791, -231), (-434, -421), (605, -779), (-306, 876), (-86, 24), (-871, 270), (-871, 677), (-664, 162), (-899, 529), (-459, 895), (-789, -577), (525, 153), (64, 522), (-435, 37), (667, 721), (-17, 791), (-899, -921), (-682, -602), (-596, -869), (-272, -467), (237, 148), (505, -36), (803, 792), (105, -59), (594, 221), (106, 642), (-430, 774), (-104, -523), (573, -394), (-651, -259), (259, 660), (-209, 140), (-176, -415), (-650, -62), (-548, 367), (482, 241), (-987, -673), (-752, -90), (366, -6), (308, 83), (-814, 165), (508, -300), (-514, 621), (400, 692), (908, -827), (-426, 428), (474, -133), (677, 470), (-315, -955), (-630, -285), (-409, -60), (-848, -846), (-862, -321), (-197, 577), (522, 69), (92, -905), (972, 401), (495, 7), (-412, 961), (-28, -314), (-444, 141), (956, -705), (-913, 727), (-243, -401), (980, 901), (71, 791), (-658, 51), (893, 625), (426, 713), (-213, -738), (-783, -258), (65, -123), (-955, -509), (-324, 236), (920, 846), (-257, 781), (-571, 479), (639, -582), (-804, 433), (-535, 380), (524, 435), (986, 840), (422, 524), (946, 228), (-622, 391), (-789, 237), (-437, -333), (78, -335), (-495, 610), (713, 489), (679, 917), (-761, 358), (-957, 54), (293, 190), (-197, -299), (238, 91), (-246, -71), (-68, -332), (-545, 667), (-529, 692), (-67, -156), (823, -856), (167, 518), (616, 199), (85, 573), (-444, 577), (-453, -925), (905, 469), (78, -214), (-321, 448), (633, 558), (-102, 558), (990, -399), (7, 345), (65, -636), (-723, 766), (911, -639), (967, -435), (917, -828), (324, 48), (701, 908), (676, 401), (164, 178), (-66, -401), (-438, 529), (-915, 574), (442, 613), (-114, -758), (-703, -867), (44, 395), (-222, -451), (329, 741), (453, -532), (-973, 955), (819, -980), (-726, -55), (-639, 227), (190, -859), (-530, -785), (20, -725), (485, 352), (-560, 893), (-674, -571), (-265, -673), (-238, -207), (132, -256), (566, 445), (246, 609), (-519, -583), (987, -510), (-805, -610), (997, -741), (-829, 646), (-348, 98), (382, 830), (20, -523), (703, -787), (542, -780), (-31, 437), (816, 406), (-532, -716), (693, -158), (-318, 53), (59, 772), (-392, -210), (-669, 570), (-493, 201), (-35, 808), (393, 525), (366, 792), (-424, -765), (-134, -252), (-739, 50), (-257, 334), (-332, 160), (753, 814), (-933, 611), (-876, -423), (779, 119), (-726, -965), (-418, 24), (790, 591), (-409, -945), (793, 705), (-810, 587), (-805, -628), (-883, -116), (509, -264), (-181, 304), (-951, 462), (662, -77), (138, -986), (391, -829), (-517, 25), (-370, 532), (-625, 330), (938, -317), (-689, 955), (736, 801), (-715, -16), (-703, 215), (317, 647), (219, -912), (760, 126), (-903, 831), (-450, 489), (-764, -147), (-182, -908), (188, 15), (-506, -874), (-961, 157), (131, 651), (675, -674), (-858, 936), (596, 29), (-965, 211), (-153, -216), (-558, -687), (-241, -440), (104, 395), (475, 179), (394, 458), (-51, -830), (11, 386), (-72, -312), (-497, 741), (542, 435), (-616, -378), (67, -815), (960, 886), (-146, 928), (-360, 876), (828, 928), (610, 595), (-901, 749), (-127, 655), (-843, -829), (-709, 591), (589, -340), (-791, 331), (952, -763), (741, 241), (67, -796), (-245, 867), (427, 210), (-392, 821), (-835, 747), (-531, 563), (983, -796), (-48, 882), (297, -937), (-49, 932), (591, 293), (-207, 16), (-815, -832), (371, 495), (714, 710), (9, 780), (-473, 943), (-676, 923), (-840, 310), (-894, -8), (-157, 318), (-13, -460), (378, -415), (387, 603), (-119, -970), (-156, -913), (-603, 240), (338, 840), (344, -986), (-392, 828), (-638, 195), (305, -198), (-423, -222), (-96, 149), (689, -72), (453, 673), (65, 348), (-666, -206), (-262, 331), (4, -218), (-414, 920), (866, 410), (871, -15), (362, 791), (81, 60), (353, -552), (461, 479), (456, -853), (765, 804), (-111, -556), (325, -329), (-36, -931), (713, 541), (-311, 763), (143, -348), (777, 719), (736, -595), (-451, 677), (971, 349), (-869, -712), (76, -881), (740, -28), (-666, -106), (62, -470), (370, 34), (82, 645), (-875, -591), (-702, -356), (156, -80), (-531, -292), (792, -474), (-770, 346), (560, 647), (776, 600), (951, 314), (986, -195), (271, 147), (103, -205), (-833, 54), (81, -42), (-701, -614), (-89, 221), (-435, -272), (459, -167), (723, -997), (-51, 375), (-218, 457), (809, -109), (-997, 50), (955, -291), (989, 12), (369, -356), (75, 639), (734, -742), (814, 753), (538, 655), (-52, -142), (710, -872), (551, -724), (935, -31), (-116, -368), (-736, -626)]\n",
    "shortest = [1, 510, 108, 531, 212, 36, 430, 211, 276, 143, 173, 52, 226, 402, 35, 466, 296, 47, 99, 105, 68, 88, 157, 685, 325, 410, 355, 287, 260, 592, 188, 468, 85, 515, 265, 300, 684, 90, 580, 128, 470, 305, 635, 486, 576, 340, 155, 459, 207, 461, 369, 256, 691, 664, 382, 568, 504, 145, 387, 558, 261, 95, 622, 483, 634, 425, 400, 488, 642, 526, 511, 626, 308, 174, 147, 150, 422, 520, 204, 614, 372, 524, 79, 186, 606, 608, 587, 19, 600, 213, 432, 652, 291, 114, 588, 360, 628, 602, 151, 383, 582, 456, 455, 399, 445, 604, 462, 481, 562, 551, 656, 288, 77, 522, 594, 177, 93, 541, 292, 32, 10, 482, 533, 61, 140, 419, 75, 591, 126, 603, 205, 363, 509, 277, 365, 319, 546, 49, 219, 245, 81, 435, 20, 178, 448, 670, 596, 200, 617, 120, 362, 15, 299, 214, 141, 442, 397, 139, 347, 449, 687, 567, 572, 677, 618, 543, 160, 563, 227, 351, 5, 636, 386, 406, 180, 666, 234, 337, 241, 427, 156, 57, 409, 152, 116, 534, 244, 429, 336, 69, 3, 72, 393, 232, 665, 13, 367, 259, 507, 542, 700, 679, 374, 499, 58, 121, 505, 574, 517, 2, 495, 566, 463, 539, 30, 405, 223, 527, 500, 82, 136, 648, 384, 243, 119, 181, 195, 348, 471, 179, 512, 662, 237, 38, 268, 40, 444, 653, 43, 165, 48, 649, 690, 621, 216, 235, 117, 324, 42, 138, 644, 282, 489, 192, 231, 236, 176, 434, 103, 569, 692, 513, 191, 359, 514, 146, 697, 646, 250, 16, 83, 627, 266, 607, 279, 56, 559, 137, 262, 220, 271, 494, 323, 18, 549, 106, 343, 354, 210, 135, 599, 585, 659, 412, 131, 317, 650, 6, 579, 249, 484, 34, 496, 98, 315, 221, 620, 480, 699, 454, 581, 416, 311, 638, 465, 676, 502, 102, 175, 334, 630, 272, 70, 60, 257, 39, 350, 304, 476, 396, 452, 65, 377, 675, 450, 228, 73, 197, 601, 577, 368, 264, 115, 53, 392, 497, 194, 437, 583, 503, 9, 645, 439, 525, 612, 578, 167, 66, 331, 289, 303, 312, 479, 215, 643, 206, 183, 565, 134, 184, 667, 380, 678, 290, 428, 127, 44, 695, 457, 263, 273, 573, 528, 37, 451, 501, 269, 521, 247, 631, 681, 190, 258, 668, 443, 161, 345, 358, 45, 196, 27, 376, 575, 333, 51, 420, 353, 487, 389, 295, 426, 25, 564, 624, 623, 548, 123, 224, 398, 544, 100, 222, 322, 281, 233, 339, 518, 187, 63, 686, 64, 641, 132, 242, 87, 313, 89, 689, 166, 97, 698, 251, 660, 633, 547, 33, 46, 320, 378, 414, 193, 94, 571, 411, 330, 663, 395, 230, 346, 403, 682, 595, 385, 8, 229, 163, 655, 111, 275, 669, 209, 506, 7, 474, 112, 469, 553, 688, 50, 284, 674, 357, 274, 162, 254, 560, 535, 598, 189, 460, 381, 609, 270, 478, 217, 11, 516, 640, 23, 80, 413, 86, 344, 129, 182, 424, 225, 540, 654, 12, 693, 352, 379, 647, 532, 555, 239, 92, 477, 447, 24, 91, 218, 171, 96, 326, 198, 74, 185, 694, 671, 28, 14, 164, 590, 467, 17, 651, 446, 404, 110, 59, 538, 672, 294, 41, 613, 246, 371, 107, 78, 431, 356, 318, 586, 286, 421, 438, 280, 310, 328, 589, 208, 464, 657, 673, 76, 440, 71, 170, 122, 335, 680, 298, 619, 545, 253, 530, 637, 309, 632, 388, 316, 519, 341, 21, 610, 109, 4, 203, 267, 361, 453, 407, 240, 306, 302, 285, 370, 537, 124, 550, 327, 238, 84, 423, 307, 202, 556, 492, 394, 661, 159, 390, 149, 293, 417, 55, 523, 104, 118, 625, 493, 629, 364, 557, 349, 169, 552, 29, 391, 436, 255, 441, 248, 433, 22, 283, 472, 54, 172, 616, 554, 62, 570, 101, 158, 561, 490, 498, 615, 366, 639, 415, 148, 252, 529, 584, 113, 199, 658, 342, 314, 125, 593, 408, 611, 329, 332, 154, 201, 133, 485, 301, 536, 26, 31, 373, 153, 375, 696, 67, 144, 458, 321, 401, 475, 278, 605, 597, 142, 418, 508, 338, 473, 297, 130, 491, 168, 683, 1]\n",
    "el_tus = time.time()\n",
    "short = tsp(points)\n",
    "print(f'time = {time.time() -el_tus} ')\n",
    "print(f'shortest={get_length(shortest,points)}')\n",
    "print(f'short curr={get_length(short,points)}')\n",
    "x = [point[0] for point in points[1:]]\n",
    "y = [point[1] for point in points[1:]]\n",
    "ppl.scatter(x,y)\n",
    "for i in range(len(short)-1) :\n",
    "    a = points[short[i]]\n",
    "    b = points[short[i+1]]\n",
    "    ppl.plot([a[0], b[0]], [a[1], b[1]],'black')\n"
   ]
  },
  {
   "cell_type": "code",
   "execution_count": 119,
   "metadata": {},
   "outputs": [],
   "source": [
    "import random\n",
    "def gen_points(n):\n",
    "    res =[n]\n",
    "    for i in range(n):\n",
    "        #if i % 10 == 0:\n",
    "            #print(i)\n",
    "        while True:\n",
    "            x = random.randint(-1000,1000)\n",
    "            y = random.randint(-1000,1000)\n",
    "            if (x,y) not in res:\n",
    "                res.append((x,y))\n",
    "                break\n",
    "    return res\n",
    "        \n",
    "points = gen_points(700)\n",
    "    \n",
    "# points = [90, (37, -19), (-49, -102), (100, -21), (80, -71), (-145, 134), (96, 4), (-19, -149), (-97, 47), (96, -144), (103, 79), (-93, 32), (-51, 123), (-36, 68), (97, 49), (-132, 36), (-177, -170), (173, 5), (-77, 36), (55, 73), (14, 147), (56, 9), (-79, -154), (19, -137), (-6, 37), (-111, -121), (0, 68), (139, 24), (-125, 40), (-47, -99), (176, -31), (69, -157), (-8, 16), (-41, 68), (-12, 44), (-164, -48), (65, -100), (61, -35), (8, -54), (54, -68), (-88, 30), (-136, 13), (34, -154), (70, -25), (41, -64), (117, 41), (-17, 147), (76, -128), (-159, 124), (-117, -143), (-92, -113), (80, 174), (-177, -3), (160, 138), (-37, -17), (32, -25), (134, -70), (70, -81), (170, 14), (135, -20), (-109, -164), (-52, 116), (24, 89), (-112, -21), (-46, 122), (-114, -165), (-71, -27), (-8, -91), (115, -71), (152, 156), (-8, -36), (4, -179), (115, -49), (-70, 142), (101, -95), (57, 126), (-13, 141), (-131, 50), (21, -19), (-40, -173), (-161, -129), (-5, -14), (3, 175), (-60, 167), (-52, 6), (-58, 32), (77, -58), (-171, 4), (155, -48), (-36, 153), (-71, -74)]\n",
    "\n",
    "# short_len = get_length(\n",
    "#     [1, 37, 43, 21, 6, 3, 86, 4, 57, 39, 44, 38, 67, 29, 2, 90, 50, 25, 80, 16, 49, 65, 60, 22, 79, 7, 71, 23, 42, 31, 9, 47, 36, 74, 68, 56, 72, 59, 88, 30, 17, 58, 27, 45, 14, 10, 19, 62, 75, 53, 69, 51, 82, 20, 76, 46, 89, 83, 73, 5, 48, 77, 28, 15, 41, 87, 52, 35, 63, 66, 54, 84, 85, 18, 40, 11, 8, 61, 12, 64, 13, 33, 26, 34, 24, 32, 81, 70, 78, 55, 1],\n",
    "#     points)\n",
    "# points = [150, (-369, -602), (-100, -168), (266, 860), (479, -621), (-569, 224), (-436, -613), (376, -91), (-419, 773), (385, 646), (390, 868), (-95, -271), (-49, -152), (-3, 74), (568, -4), (757, -959), (-186, -424), (99, -199), (-206, 55), (-378, -600), (-165, 945), (176, -78), (68, 171), (-52, 141), (478, -925), (600, -676), (502, 249), (597, -818), (-267, 282), (963, -467), (151, -802), (-454, 795), (332, -539), (927, -181), (31, 836), (659, -124), (-535, 749), (-943, -552), (-362, -711), (197, 575), (-452, -922), (-57, 727), (520, -251), (-937, -709), (779, -700), (-612, 760), (900, -442), (-506, -241), (140, -275), (-495, -461), (776, -764), (598, 872), (-404, -337), (663, -277), (642, -875), (73, 625), (-701, -272), (-684, -508), (641, -604), (-356, 895), (388, 750), (134, -181), (559, -556), (408, 394), (-412, 977), (-736, -51), (449, -417), (-336, -86), (-612, -585), (586, 872), (-43, -192), (-146, 605), (456, -537), (-448, 114), (685, 285), (88, -117), (218, -673), (-314, 348), (205, 196), (548, 527), (-349, 276), (815, 262), (-712, -541), (-916, -766), (122, 814), (739, -57), (539, -211), (-168, 660), (932, -453), (981, 32), (394, -859), (321, -435), (296, 642), (741, -483), (-401, -258), (-744, 938), (340, 737), (861, -868), (-372, 199), (60, -871), (96, 213), (911, -711), (546, 356), (81, -840), (-984, 726), (966, 404), (76, -866), (-421, 759), (-814, 259), (-299, 335), (-124, 528), (-52, -84), (306, -849), (-26, 318), (432, -380), (-415, -106), (-603, -130), (-130, -89), (-262, 902), (913, -731), (672, 589), (336, 18), (-647, -383), (785, 384), (-362, 678), (-201, 817), (-709, 280), (-29, -52), (-86, -241), (118, 950), (-502, -560), (628, -413), (326, -987), (-59, -508), (-44, 269), (-169, 580), (73, 799), (-863, 548), (578, -459), (-966, 701), (-221, -955), (-594, 722), (9, 962), (527, -668), (25, -575), (-275, -790), (867, -797), (-352, -731), (-389, -211), (-181, -465), (-457, 545)]\n",
    "# shortest = [1, 52, 122, 56, 37, 43, 83, 57, 82, 68, 6, 130, 49, 149, 16, 133, 144, 76, 32, 91, 48, 17, 61, 21, 75, 127, 111, 12, 70, 128, 11, 2, 117, 94, 47, 148, 67, 115, 116, 65, 108, 126, 5, 73, 98, 18, 80, 28, 109, 77, 150, 137, 139, 104, 95, 45, 141, 36, 31, 107, 8, 64, 59, 118, 125, 20, 142, 129, 34, 136, 84, 3, 10, 69, 51, 60, 96, 9, 92, 39, 55, 41, 87, 124, 135, 71, 110, 113, 134, 23, 13, 22, 100, 78, 121, 7, 86, 42, 114, 66, 72, 4, 143, 25, 50, 44, 58, 62, 138, 131, 93, 53, 35, 85, 14, 26, 74, 102, 63, 79, 120, 123, 105, 81, 89, 33, 46, 88, 29, 101, 119, 146, 97, 15, 54, 27, 24, 90, 132, 112, 30, 103, 106, 99, 140, 40, 145, 147, 38, 19, 1]\n",
    "# points = [250, (27, 177), (964, 608), (919, 325), (-228, 923), (-116, -753), (484, -552), (-592, 763), (-109, -577), (674, -456), (981, -481), (326, -308), (722, 174), (718, -23), (397, 8), (135, -67), (24, -944), (685, 901), (541, 164), (888, -410), (631, 796), (732, 503), (-609, -141), (-74, 727), (-616, 597), (-258, -43), (-419, -811), (373, 996), (141, -182), (-818, -326), (-569, 595), (-282, -527), (791, -80), (114, 398), (155, 654), (595, -481), (970, 165), (-200, 178), (436, -372), (-20, -634), (104, -261), (-496, -955), (-835, -385), (-150, -173), (-36, -85), (803, 997), (-386, 244), (12, -986), (691, -830), (7, 423), (832, -846), (-246, 545), (-347, 78), (423, -830), (992, -113), (-693, -37), (-397, -91), (-387, -442), (602, 147), (-260, -167), (657, 686), (-948, -884), (620, -887), (690, -401), (92, 244), (427, -730), (757, -182), (-962, 117), (-851, -269), (-17, 529), (-973, 185), (-452, 536), (596, -691), (395, -290), (-717, 528), (580, -81), (-686, 56), (343, -611), (-289, -595), (170, 228), (480, -409), (-9, 241), (85, -627), (-812, -918), (709, 846), (759, -367), (562, 707), (-183, -431), (236, -190), (303, -697), (359, -704), (700, -812), (-109, -519), (-622, -922), (-930, 362), (-164, 878), (512, -312), (232, -664), (-392, -612), (421, -721), (-671, -873), (900, 43), (279, -616), (836, 191), (-107, 779), (254, 341), (163, -968), (-796, -637), (35, 395), (-267, -199), (572, -423), (-659, -199), (729, 373), (423, -170), (666, -545), (143, -425), (-415, -619), (890, 426), (23, -486), (97, 308), (-902, 745), (451, -397), (86, 498), (154, 186), (-221, -627), (825, -527), (675, 995), (708, -310), (103, -363), (-364, -950), (-525, 976), (1000, -281), (585, -206), (28, 119), (-628, 114), (536, -740), (-450, -393), (-874, -21), (-595, -896), (372, 893), (-685, -129), (-928, 723), (9, -511), (97, -789), (-325, 103), (946, 197), (-644, 855), (-822, 245), (285, -347), (178, 864), (246, -458), (794, -665), (382, 22), (-31, -900), (-470, 912), (514, 923), (-462, 866), (614, 774), (-730, 745), (-941, 632), (84, -510), (-85, 596), (433, 423), (735, 556), (115, 232), (-522, -950), (-496, -240), (934, 988), (20, 328), (240, -47), (292, -439), (-745, -349), (864, -217), (118, 682), (852, -310), (609, 402), (-491, 779), (619, 70), (-596, -767), (-179, 914), (-385, 949), (85, 960), (-398, -904), (-336, 775), (196, -252), (923, 238), (435, 800), (-150, -141), (-187, 34), (-976, 861), (-931, -895), (-979, 805), (-452, -626), (-606, 778), (380, -226), (-851, -64), (-601, 136), (-689, -759), (138, 383), (377, -922), (390, -11), (114, 322), (832, -213), (608, 520), (-524, 352), (-481, 979), (-696, -9), (800, -199), (550, 172), (-318, 824), (-633, -325), (173, -218), (362, -326), (-718, -439), (929, -510), (604, 240), (493, 786), (-456, 116), (-465, 677), (47, 20), (-39, -995), (464, 141), (-257, -564), (536, 285), (-87, 677), (632, 902), (393, 929), (454, 572), (-94, -369), (-300, -176), (-327, 777), (802, -431), (801, 925), (-773, 21), (494, -860), (325, 654), (-366, -43), (925, -459), (162, 832), (-913, 330), (-571, -67), (-39, 450), (977, -927), (642, -915), (-91, -356), (-774, -11), (-842, 927), (144, -907), (831, 66), (-805, -374), (-921, -944)]\n",
    "# shortest = [1, 216, 186, 139, 226, 27, 181, 149, 238, 173, 34, 235, 227, 162, 223, 215, 112, 175, 203, 21, 163, 60, 86, 157, 20, 84, 225, 155, 126, 17, 232, 45, 167, 2, 117, 3, 185, 145, 36, 12, 103, 248, 101, 54, 131, 19, 10, 214, 237, 231, 125, 9, 35, 110, 80, 121, 38, 61, 190, 250, 83, 107, 213, 171, 249, 42, 29, 68, 210, 111, 140, 55, 206, 159, 158, 120, 141, 191, 189, 246, 146, 193, 7, 176, 156, 154, 130, 205, 180, 183, 230, 209, 4, 179, 95, 104, 23, 224, 161, 122, 33, 198, 105, 79, 123, 164, 64, 201, 119, 81, 168, 108, 49, 241, 69, 51, 71, 218, 30, 24, 74, 239, 94, 147, 70, 67, 137, 195, 245, 233, 76, 134, 196, 204, 46, 37, 188, 44, 187, 43, 59, 109, 229, 25, 56, 236, 52, 144, 217, 240, 22, 166, 136, 57, 98, 178, 197, 100, 93, 138, 165, 41, 129, 182, 26, 192, 116, 78, 31, 222, 124, 5, 16, 47, 220, 153, 143, 106, 247, 199, 234, 62, 243, 48, 91, 50, 242, 151, 114, 6, 72, 135, 53, 65, 99, 90, 89, 77, 102, 97, 82, 39, 8, 92, 87, 228, 244, 118, 142, 160, 128, 40, 28, 211, 88, 184, 115, 150, 170, 148, 11, 212, 73, 194, 113, 75, 132, 96, 127, 63, 85, 174, 172, 202, 207, 66, 32, 13, 177, 58, 208, 18, 221, 152, 14, 200, 169, 15, 219, 133, 1]\n",
    "\n",
    "\n",
    "# print(points)\n",
    "# el_tus = time.time()\n",
    "# short = tsp(points)\n",
    "# print(f'time = {time.time() -el_tus} ')\n",
    "# print(get_length(short,points))\n",
    "# #print(short_len)\n",
    "# print(short)\n",
    "# x = [point[0] for point in points[1:]]\n",
    "# y = [point[1] for point in points[1:]]\n",
    "# ppl.scatter(x,y)\n",
    "# for i in range(len(short)-1) :\n",
    "#     a = points[short[i]]\n",
    "#     b = points[short[i+1]]\n",
    "#     ppl.plot([a[0], b[0]], [a[1], b[1]],'black')"
   ]
  },
  {
   "cell_type": "markdown",
   "metadata": {
    "deletable": false,
    "editable": false,
    "nbgrader": {
     "cell_type": "markdown",
     "checksum": "81c58d2387344fc16393a58a82ae08b9",
     "grade": false,
     "grade_id": "cell-13401c13c017b3b5",
     "locked": true,
     "schema_version": 3,
     "solution": false,
     "task": false
    }
   },
   "source": [
    "# Testing code"
   ]
  },
  {
   "cell_type": "code",
   "execution_count": 15,
   "metadata": {
    "deletable": false,
    "editable": false,
    "nbgrader": {
     "cell_type": "code",
     "checksum": "94d3e456627c342a8bbe33cfb2a22706",
     "grade": true,
     "grade_id": "cell-441d79d04da2b037",
     "locked": true,
     "points": 0,
     "schema_version": 3,
     "solution": false,
     "task": false
    }
   },
   "outputs": [
    {
     "name": "stdout",
     "output_type": "stream",
     "text": [
      "Baseline path:  4.0\n",
      "Short path:  4.0\n",
      "Your path:  4.0\n",
      "Baseline path:  50.91168824543143\n",
      "Short path:  50.91168824543143\n",
      "Your path:  50.911688245431414\n"
     ]
    }
   ],
   "source": [
    "import math\n",
    "\n",
    "def distance(p, q):\n",
    "    \"\"\"Return the Euclidean distance between points p = (a, b) and q = (c, d).\"\"\"\n",
    "    return ((p[0]-q[0])**2 + (p[1]-q[1])**2) ** 0.5\n",
    "\n",
    "\n",
    "def get_length(path, points):\n",
    "    \"\"\"Return the length of the path.\n",
    "    \n",
    "    Input:  path is a list of point indices;\n",
    "            points is a list of the form [n, (x_1, y_1), ..., (x_n, y_n)],\n",
    "            where n is the number of points on a plane and (x_i, y_i) are their coordinates. \n",
    "    Output: The length of the input path\n",
    "            assuming the coordinates specified in the input\n",
    "            and the Euclidean distance between the points.\n",
    "    \"\"\"\n",
    "    return sum(distance(points[path[i]], points[path[i+1]]) for i in range(len(path) - 1))\n",
    "        \n",
    "    \n",
    "\n",
    "\n",
    "def run_tsp(points, queue):\n",
    "    queue.put(tsp(points))\n",
    "\n",
    "\n",
    "def test(points, baseline_path, short_path):\n",
    "    \"\"\"Test the tsp function on points.\n",
    "    \n",
    "    baseline_path is the length of a simple solution.\n",
    "    short_path is the length of a good solution.\n",
    "    \n",
    "    Your solution should run for at most 30 seconds\n",
    "    and should return a path of length less than than baseline_path\n",
    "    (the only exception is when baseline_path is almost equal to short_path;\n",
    "    in this case, it is OK to return a path of similar length).\n",
    "    The score you get depends on how short your path is. The score is the returned value of the function.\n",
    "    \n",
    "    \"\"\"\n",
    "    print(\"Baseline path: \", baseline_path)\n",
    "    print(\"Short path: \", short_path)\n",
    "    n = points[0]\n",
    "\n",
    "    path = tsp(points)\n",
    "    \n",
    "    assert len(path) == n + 1, \"The route must contain n + 1 points.\"\n",
    "    assert path[0] == 1 == path[-1], \"The route should start and end at point 1.\"\n",
    "    assert set(path) == set(range(1, n + 1)), \"The route must contain all n points.\"\n",
    "\n",
    "    length = get_length(path, points)\n",
    "    print(\"Your path: \", length)\n",
    "    if length <= short_path + 0.00001: # If your path is just slightly longer than short_path or shorter, you get 10. \n",
    "        return 10.0    \n",
    "    if length >= baseline_path: # If it is the same as the baseline or longer, you get 1.\n",
    "        return 1\n",
    "    # Otherwise, the number of points you get depends on how close your path is to short_path.\n",
    "    return math.ceil((baseline_path-length) / (baseline_path-short_path) * 10)\n",
    "    \n",
    "\n",
    "# Square 1 x 1. Your algorithm is expected to find a shortest tour, e.g., [1, 3, 2, 4, 1].\n",
    "points = [4, (0, 0), (1, 1), (0, 1), (1, 0)]\n",
    "length = get_length([1, 3, 2, 4, 1], points)\n",
    "assert test(points, length, length) == 10\n",
    "\n",
    "\n",
    "# Line y = x + 1. Your algorithm is expected to find a shortest tour, e.g., [1, 2, 3, 4, 5, 6, 7, 8, 9, 10, 1].\n",
    "points = [10, (1, 2), (3, 4), (5, 6), (7, 8), (9, 10), (11, 12), (13, 14), (15, 16), (17, 18), (19, 20)]\n",
    "length = get_length([1, 2, 3, 4, 5, 6, 7, 8, 9, 10, 1], points)\n",
    "assert test(points, length, length) == 10"
   ]
  },
  {
   "cell_type": "markdown",
   "metadata": {
    "deletable": false,
    "editable": false,
    "nbgrader": {
     "cell_type": "markdown",
     "checksum": "97f8f61bf12827ca9f4df24ac7b9ff4a",
     "grade": false,
     "grade_id": "cell-6e653de6a6fd6fed",
     "locked": true,
     "schema_version": 3,
     "solution": false,
     "task": false
    }
   },
   "source": [
    "# Test with 25 points"
   ]
  },
  {
   "cell_type": "code",
   "execution_count": 16,
   "metadata": {
    "deletable": false,
    "editable": false,
    "nbgrader": {
     "cell_type": "code",
     "checksum": "cd4b7038317537fddb62247d5e0d2de1",
     "grade": true,
     "grade_id": "cell-bf1c3b79c2c7f67d",
     "locked": true,
     "points": 10,
     "schema_version": 3,
     "solution": false,
     "task": false
    }
   },
   "outputs": [
    {
     "name": "stdout",
     "output_type": "stream",
     "text": [
      "Baseline path:  114926.50306081345\n",
      "Short path:  114926.50306081343\n",
      "Your path:  114926.50306081345\n"
     ]
    },
    {
     "data": {
      "text/plain": [
       "10.0"
      ]
     },
     "execution_count": 16,
     "metadata": {},
     "output_type": "execute_result"
    }
   ],
   "source": [
    "points = [25,\n",
    "          (6139, -9327),\n",
    "          (7524, 9018),\n",
    "          (-8201, -4582),\n",
    "          (5277, -13042),\n",
    "          (2541, 156),\n",
    "          (-6748, 14001),\n",
    "          (12371, 6187),\n",
    "          (-3191, 3754),\n",
    "          (-14173, 11185),\n",
    "          (1725, 14670),\n",
    "          (-14467, 12589),\n",
    "          (-703, -13791),\n",
    "          (6151, -7013),\n",
    "          (1367, 14568),\n",
    "          (-13867, 14509),\n",
    "          (405, -6256),\n",
    "          (6185, -13240),\n",
    "          (7325, 5230),\n",
    "          (845, 339),\n",
    "          (7181, -2898),\n",
    "          (-2921, -4544),\n",
    "          (10395, 808),\n",
    "          (11313, 2696),\n",
    "          (-5320, 11409),\n",
    "          (3790, 10442)\n",
    "         ]\n",
    "\n",
    "baseline = get_length(\n",
    "    [1, 13, 20, 22, 23, 7, 18, 2, 25, 10, 14, 24, 6, 15, 11, 9, 8, 19, 5, 16, 21, 3, 12, 4, 17, 1],\n",
    "    points)\n",
    "short = get_length(\n",
    "    [1, 17, 4, 12, 3, 21, 16, 5, 19, 8, 9, 11, 15, 6, 24, 14, 10, 25, 2, 18, 7, 23, 22, 20, 13, 1],\n",
    "    points)\n",
    "\n",
    "test(points, baseline, short)"
   ]
  },
  {
   "cell_type": "markdown",
   "metadata": {
    "deletable": false,
    "editable": false,
    "nbgrader": {
     "cell_type": "markdown",
     "checksum": "fca384e91822759a4255e402f6d5da77",
     "grade": false,
     "grade_id": "cell-6afc06fc1cca0442",
     "locked": true,
     "schema_version": 3,
     "solution": false,
     "task": false
    }
   },
   "source": [
    "# Test with 45 points"
   ]
  },
  {
   "cell_type": "code",
   "execution_count": 251,
   "metadata": {
    "deletable": false,
    "editable": false,
    "nbgrader": {
     "cell_type": "code",
     "checksum": "53ff827f9b5f78f77defafd1da9eb9f7",
     "grade": true,
     "grade_id": "cell-614fe0dd38853f28",
     "locked": true,
     "points": 10,
     "schema_version": 3,
     "solution": false,
     "task": false
    }
   },
   "outputs": [
    {
     "name": "stdout",
     "output_type": "stream",
     "text": [
      "Baseline path:  2371.446723292929\n",
      "Short path:  1720.374106087737\n",
      "Your path:  1767.6827799724438\n"
     ]
    },
    {
     "data": {
      "text/plain": [
       "10"
      ]
     },
     "execution_count": 251,
     "metadata": {},
     "output_type": "execute_result"
    }
   ],
   "source": [
    "points = [45,\n",
    "          (175, 17),\n",
    "          (134, 299),\n",
    "          (244, 76),\n",
    "          (17, 61),\n",
    "          (111, 273),\n",
    "          (195, 170),\n",
    "          (155, 209),\n",
    "          (57, 251),\n",
    "          (57, 47),\n",
    "          (100, 176),\n",
    "          (182, 251),\n",
    "          (272, 126),\n",
    "          (213, 232),\n",
    "          (131, 52),\n",
    "          (174, 201),\n",
    "          (239, 281),\n",
    "          (8, 40),\n",
    "          (142, 14),\n",
    "          (298, 244),\n",
    "          (28, 121),\n",
    "          (151, 101),\n",
    "          (40, 203),\n",
    "          (70, 105),\n",
    "          (290, 99),\n",
    "          (294, 27),\n",
    "          (221, 153),\n",
    "          (182, 78),\n",
    "          (186, 60),\n",
    "          (70, 52),\n",
    "          (151, 70),\n",
    "          (218, 122),\n",
    "          (58, 8),\n",
    "          (240, 134),\n",
    "          (178, 40),\n",
    "          (71, 20),\n",
    "          (153, 299),\n",
    "          (25, 125),\n",
    "          (6, 148),\n",
    "          (245, 14),\n",
    "          (177, 41),\n",
    "          (237, 116),\n",
    "          (94, 16),\n",
    "          (158, 107),\n",
    "          (3, 21),\n",
    "          (194, 47)\n",
    "         ]\n",
    "\n",
    "baseline = get_length(\n",
    "    [1, 34, 40, 45, 28, 27, 30, 14, 18, 42, 35, 32, 9, 29, 23,\n",
    "     20, 37, 38, 22, 8, 5, 2, 36, 11, 13, 15, 7, 6, 26, 33, 41,\n",
    "     31, 3, 24, 12, 25, 39, 43, 21, 10, 4, 17, 44, 16, 19, 1],\n",
    "    points)\n",
    "short = get_length(\n",
    "    [1, 39, 25, 3, 24, 12, 33, 41, 31, 26, 6, 15, 7, 11, 13,\n",
    "     19, 16, 36, 2, 5, 8, 22, 10, 38, 37, 20, 23, 29, 9, 4, 17,\n",
    "     44, 32, 35, 42, 18, 14, 30, 21, 43, 27, 28, 45, 40, 34, 1],\n",
    "    points)\n",
    "\n",
    "test(points, baseline, short)"
   ]
  },
  {
   "cell_type": "markdown",
   "metadata": {
    "deletable": false,
    "editable": false,
    "nbgrader": {
     "cell_type": "markdown",
     "checksum": "1cbbfb6f1d7ae0933a4fb8be7140f48c",
     "grade": false,
     "grade_id": "cell-71ff3f40be096a85",
     "locked": true,
     "schema_version": 3,
     "solution": false,
     "task": false
    }
   },
   "source": [
    "# The other eight test cases are hidden"
   ]
  },
  {
   "cell_type": "code",
   "execution_count": 252,
   "metadata": {
    "deletable": false,
    "editable": false,
    "nbgrader": {
     "cell_type": "code",
     "checksum": "e976cf19ef59270505633d9cef1346b4",
     "grade": true,
     "grade_id": "cell-49d1f8e8e4e4eda9",
     "locked": true,
     "points": 10,
     "schema_version": 3,
     "solution": false,
     "task": false
    }
   },
   "outputs": [
    {
     "name": "stdout",
     "output_type": "stream",
     "text": [
      "Baseline path:  2371.446723292929\n",
      "Short path:  1720.374106087737\n",
      "Your path:  1755.7374003307064\n"
     ]
    },
    {
     "data": {
      "text/plain": [
       "10"
      ]
     },
     "execution_count": 252,
     "metadata": {},
     "output_type": "execute_result"
    }
   ],
   "source": [
    "# Test with 90+ points\n",
    "\n",
    "test(points, baseline, short)\n"
   ]
  },
  {
   "cell_type": "code",
   "execution_count": 253,
   "metadata": {
    "deletable": false,
    "editable": false,
    "nbgrader": {
     "cell_type": "code",
     "checksum": "6143e8321ad69419a24a1426c920ed77",
     "grade": true,
     "grade_id": "cell-06ffeb8d2227f0f5",
     "locked": true,
     "points": 10,
     "schema_version": 3,
     "solution": false,
     "task": false
    }
   },
   "outputs": [
    {
     "name": "stdout",
     "output_type": "stream",
     "text": [
      "Baseline path:  2371.446723292929\n",
      "Short path:  1720.374106087737\n",
      "Your path:  1747.1070309670724\n"
     ]
    },
    {
     "data": {
      "text/plain": [
       "10"
      ]
     },
     "execution_count": 253,
     "metadata": {},
     "output_type": "execute_result"
    }
   ],
   "source": [
    "# Test with 100+ points\n",
    "\n",
    "test(points, baseline, short)"
   ]
  },
  {
   "cell_type": "code",
   "execution_count": 42,
   "metadata": {
    "deletable": false,
    "editable": false,
    "nbgrader": {
     "cell_type": "code",
     "checksum": "2db4253791dd7d8689dd5be84608e66b",
     "grade": true,
     "grade_id": "cell-f036dc2c71cd65d8",
     "locked": true,
     "points": 10,
     "schema_version": 3,
     "solution": false,
     "task": false
    }
   },
   "outputs": [
    {
     "name": "stdout",
     "output_type": "stream",
     "text": [
      "Baseline path:  2371.446723292929\n",
      "Short path:  1720.374106087737\n",
      "Your path:  2177.517409685578\n"
     ]
    },
    {
     "data": {
      "text/plain": [
       "3"
      ]
     },
     "execution_count": 42,
     "metadata": {},
     "output_type": "execute_result"
    }
   ],
   "source": [
    "# Test with 200+ points\n",
    "\n",
    "test(points, baseline, short)\n"
   ]
  },
  {
   "cell_type": "code",
   "execution_count": 43,
   "metadata": {
    "deletable": false,
    "editable": false,
    "nbgrader": {
     "cell_type": "code",
     "checksum": "42c5ca5d3ed1a921fe9b60db23eddf9f",
     "grade": true,
     "grade_id": "cell-0a51b6805b2af955",
     "locked": true,
     "points": 10,
     "schema_version": 3,
     "solution": false,
     "task": false
    }
   },
   "outputs": [
    {
     "name": "stdout",
     "output_type": "stream",
     "text": [
      "Baseline path:  2371.446723292929\n",
      "Short path:  1720.374106087737\n",
      "Your path:  2177.517409685578\n"
     ]
    },
    {
     "data": {
      "text/plain": [
       "3"
      ]
     },
     "execution_count": 43,
     "metadata": {},
     "output_type": "execute_result"
    }
   ],
   "source": [
    "# Test with 700+ points\n",
    "\n",
    "test(points, baseline, short)"
   ]
  },
  {
   "cell_type": "code",
   "execution_count": 44,
   "metadata": {
    "deletable": false,
    "editable": false,
    "nbgrader": {
     "cell_type": "code",
     "checksum": "c93c6fa1ab24eb39e7b3af4e22a209a6",
     "grade": true,
     "grade_id": "cell-eb7c80d184e69ea9",
     "locked": true,
     "points": 10,
     "schema_version": 3,
     "solution": false,
     "task": false
    }
   },
   "outputs": [
    {
     "name": "stdout",
     "output_type": "stream",
     "text": [
      "Baseline path:  2371.446723292929\n",
      "Short path:  1720.374106087737\n",
      "Your path:  2177.517409685578\n"
     ]
    },
    {
     "data": {
      "text/plain": [
       "3"
      ]
     },
     "execution_count": 44,
     "metadata": {},
     "output_type": "execute_result"
    }
   ],
   "source": [
    "# Test with 600+ points\n",
    "\n",
    "test(points, baseline, short)"
   ]
  },
  {
   "cell_type": "code",
   "execution_count": 11,
   "metadata": {
    "deletable": false,
    "editable": false,
    "nbgrader": {
     "cell_type": "code",
     "checksum": "9f055d49de279afa2eb4cda5748d03f1",
     "grade": true,
     "grade_id": "cell-d559a2ed14195325",
     "locked": true,
     "points": 10,
     "schema_version": 3,
     "solution": false,
     "task": false
    }
   },
   "outputs": [
    {
     "name": "stdout",
     "output_type": "stream",
     "text": [
      "Baseline path:  2371.446723292929\n",
      "Short path:  1720.374106087737\n",
      "Your path:  2177.517409685578\n"
     ]
    },
    {
     "data": {
      "text/plain": [
       "3"
      ]
     },
     "execution_count": 11,
     "metadata": {},
     "output_type": "execute_result"
    }
   ],
   "source": [
    "# Test with 900+ points\n",
    "\n",
    "test(points, baseline, short)"
   ]
  },
  {
   "cell_type": "code",
   "execution_count": 12,
   "metadata": {
    "deletable": false,
    "editable": false,
    "nbgrader": {
     "cell_type": "code",
     "checksum": "82ca31a5d9bfd4a9911c914f48774c97",
     "grade": true,
     "grade_id": "cell-6fb8cfd2054db547",
     "locked": true,
     "points": 10,
     "schema_version": 3,
     "solution": false,
     "task": false
    }
   },
   "outputs": [
    {
     "name": "stdout",
     "output_type": "stream",
     "text": [
      "Baseline path:  2371.446723292929\n",
      "Short path:  1720.374106087737\n",
      "Your path:  2177.517409685578\n"
     ]
    },
    {
     "data": {
      "text/plain": [
       "3"
      ]
     },
     "execution_count": 12,
     "metadata": {},
     "output_type": "execute_result"
    }
   ],
   "source": [
    "# Test with 900+ points\n",
    "\n",
    "test(points, baseline, short)"
   ]
  },
  {
   "cell_type": "code",
   "execution_count": 13,
   "metadata": {
    "deletable": false,
    "editable": false,
    "nbgrader": {
     "cell_type": "code",
     "checksum": "873dee2d064283bcd50c1a5980235b88",
     "grade": true,
     "grade_id": "cell-d8d481e144c15ddf",
     "locked": true,
     "points": 10,
     "schema_version": 3,
     "solution": false,
     "task": false
    }
   },
   "outputs": [
    {
     "name": "stdout",
     "output_type": "stream",
     "text": [
      "Baseline path:  2371.446723292929\n",
      "Short path:  1720.374106087737\n",
      "Your path:  2177.517409685578\n"
     ]
    },
    {
     "data": {
      "text/plain": [
       "3"
      ]
     },
     "execution_count": 13,
     "metadata": {},
     "output_type": "execute_result"
    }
   ],
   "source": [
    "# Test with 3000 points\n",
    "\n",
    "test(points, baseline, short)"
   ]
  },
  {
   "cell_type": "code",
   "execution_count": 58,
   "metadata": {},
   "outputs": [],
   "source": [
    "import random\n",
    "def gen_points(n):\n",
    "    res =[n]\n",
    "    for i in range(n):\n",
    "        #if i % 10 == 0:\n",
    "            #print(i)\n",
    "        while True:\n",
    "            x = random.randint(-1000,1000)\n",
    "            y = random.randint(-1000,1000)\n",
    "            if (x,y) not in res:\n",
    "                res.append((x,y))\n",
    "                break\n",
    "    return res\n",
    "        \n",
    "points = gen_points(300)\n"
   ]
  },
  {
   "cell_type": "code",
   "execution_count": 108,
   "metadata": {},
   "outputs": [
    {
     "name": "stdout",
     "output_type": "stream",
     "text": [
      "start_sol = [1, 55, 78, 81, 70, 38, 44, 39, 57, 4, 86, 37, 43, 3, 6, 21, 14, 45, 27, 58, 17, 30, 88, 56, 68, 72, 59, 74, 36, 47, 9, 31, 42, 23, 7, 79, 22, 60, 65, 49, 25, 50, 90, 29, 2, 67, 54, 84, 85, 18, 40, 11, 8, 28, 15, 77, 41, 87, 52, 35, 63, 66, 32, 24, 34, 26, 62, 19, 10, 75, 20, 76, 46, 89, 83, 73, 12, 64, 61, 33, 13, 82, 51, 69, 53, 5, 48, 80, 16, 71, 1]\n",
      "start_sol = 3531.816995114301\n",
      "new_sol = 3384.459637754106\n",
      "[1, 55, 78, 81, 54, 84, 85, 18, 8, 11, 40, 63, 66, 90, 50, 2, 29, 67, 70, 38, 44, 39, 57, 4, 86, 37, 43, 10, 14, 45, 27, 58, 17, 30, 88, 59, 6, 3, 72, 56, 68, 74, 36, 47, 9, 31, 42, 23, 71, 7, 79, 22, 60, 65, 49, 25, 16, 80, 35, 52, 87, 41, 15, 28, 77, 48, 5, 33, 13, 61, 64, 12, 73, 83, 89, 46, 76, 82, 20, 51, 69, 53, 75, 19, 62, 26, 34, 24, 32, 21, 1]\n",
      "time = 13.206343412399292 \n",
      "2967.454863031157\n",
      "[1, 55, 78, 81, 54, 84, 85, 18, 8, 11, 40, 63, 66, 90, 50, 2, 29, 67, 70, 38, 44, 39, 57, 4, 86, 37, 43, 10, 14, 45, 27, 58, 17, 30, 88, 59, 6, 3, 72, 56, 68, 74, 36, 47, 9, 31, 42, 23, 71, 7, 79, 22, 60, 65, 49, 25, 16, 80, 35, 52, 87, 41, 15, 28, 77, 48, 5, 33, 13, 61, 64, 12, 73, 83, 89, 46, 76, 82, 20, 51, 69, 53, 75, 19, 62, 26, 34, 24, 32, 21, 1]\n"
     ]
    },
    {
     "data": {
      "image/png": "[encoded data removed]",
      "text/plain": [
       "<Figure size 432x288 with 1 Axes>"
      ]
     },
     "metadata": {
      "needs_background": "light"
     },
     "output_type": "display_data"
    }
   ],
   "source": [
    "points = [90, (37, -19), (-49, -102), (100, -21), (80, -71), (-145, 134), (96, 4), (-19, -149), (-97, 47), (96, -144), (103, 79), (-93, 32), (-51, 123), (-36, 68), (97, 49), (-132, 36), (-177, -170), (173, 5), (-77, 36), (55, 73), (14, 147), (56, 9), (-79, -154), (19, -137), (-6, 37), (-111, -121), (0, 68), (139, 24), (-125, 40), (-47, -99), (176, -31), (69, -157), (-8, 16), (-41, 68), (-12, 44), (-164, -48), (65, -100), (61, -35), (8, -54), (54, -68), (-88, 30), (-136, 13), (34, -154), (70, -25), (41, -64), (117, 41), (-17, 147), (76, -128), (-159, 124), (-117, -143), (-92, -113), (80, 174), (-177, -3), (160, 138), (-37, -17), (32, -25), (134, -70), (70, -81), (170, 14), (135, -20), (-109, -164), (-52, 116), (24, 89), (-112, -21), (-46, 122), (-114, -165), (-71, -27), (-8, -91), (115, -71), (152, 156), (-8, -36), (4, -179), (115, -49), (-70, 142), (101, -95), (57, 126), (-13, 141), (-131, 50), (21, -19), (-40, -173), (-161, -129), (-5, -14), (3, 175), (-60, 167), (-52, 6), (-58, 32), (77, -58), (-171, 4), (155, -48), (-36, 153), (-71, -74)]\n",
    "\n",
    "short_len = get_length(\n",
    "    [1, 37, 43, 21, 6, 3, 86, 4, 57, 39, 44, 38, 67, 29, 2, 90, 50, 25, 80, 16, 49, 65, 60, 22, 79, 7, 71, 23, 42, 31, 9, 47, 36, 74, 68, 56, 72, 59, 88, 30, 17, 58, 27, 45, 14, 10, 19, 62, 75, 53, 69, 51, 82, 20, 76, 46, 89, 83, 73, 5, 48, 77, 28, 15, 41, 87, 52, 35, 63, 66, 54, 84, 85, 18, 40, 11, 8, 61, 12, 64, 13, 33, 26, 34, 24, 32, 81, 70, 78, 55, 1],\n",
    "    points)\n",
    "el_tus = time.time()\n",
    "short = tsp(points)\n",
    "print(f'time = {time.time() -el_tus} ')\n",
    "print(get_length(short,points))\n",
    "print(short)\n",
    "x = [point[0] for point in points[1:]]\n",
    "y = [point[1] for point in points[1:]]\n",
    "ppl.scatter(x,y)\n",
    "for i in range(len(short)-1) :\n",
    "    a = points[short[i]]\n",
    "    b = points[short[i+1]]\n",
    "    ppl.plot([a[0], b[0]], [a[1], b[1]],'black')"
   ]
  },
  {
   "cell_type": "code",
   "execution_count": 10,
   "metadata": {},
   "outputs": [
    {
     "name": "stdout",
     "output_type": "stream",
     "text": [
      "2810.8996817908323\n"
     ]
    }
   ],
   "source": [
    "print(short_len)"
   ]
  },
  {
   "cell_type": "code",
   "execution_count": null,
   "metadata": {},
   "outputs": [],
   "source": []
  },
  {
   "cell_type": "code",
   "execution_count": null,
   "metadata": {},
   "outputs": [],
   "source": []
  }
 ],
 "metadata": {
  "kernelspec": {
   "display_name": "Python 3",
   "language": "python",
   "name": "python3"
  },
  "language_info": {
   "codemirror_mode": {
    "name": "ipython",
    "version": 3
   },
   "file_extension": ".py",
   "mimetype": "text/x-python",
   "name": "python",
   "nbconvert_exporter": "python",
   "pygments_lexer": "ipython3",
   "version": "3.8.3"
  }
 },
 "nbformat": 4,
 "nbformat_minor": 4
}
