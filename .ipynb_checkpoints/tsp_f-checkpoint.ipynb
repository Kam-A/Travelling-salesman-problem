{
 "cells": [
  {
   "cell_type": "markdown",
   "metadata": {},
   "source": [
    "# Your solution"
   ]
  },
  {
   "cell_type": "code",
   "execution_count": 15,
   "metadata": {
    "deletable": false,
    "nbgrader": {
     "cell_type": "code",
     "checksum": "f063005f2b60c8c028cce011ed8b756c",
     "grade": false,
     "grade_id": "cell-73cf23cba2dc9e54",
     "locked": false,
     "schema_version": 3,
     "solution": true,
     "task": false
    }
   },
   "outputs": [],
   "source": [
    "import numpy as np\n",
    "# your code here\n",
    "def get_tree_by_color(dict_of_edge,color):\n",
    "    res = []\n",
    "    for edge,col in dict_of_edge.items():\n",
    "        if col == color:\n",
    "            res.append(edge)\n",
    "    return res\n",
    "\n",
    "def edge_dict_from_matrix(g):\n",
    "    edge_dict = {}\n",
    "    for x in range(len(g)):\n",
    "        for y in range(len(g)):\n",
    "            if (x,y) not in edge_dict and (y,x) not in edge_dict and g[x][y] != 0:\n",
    "                edge_dict[(x,y)] = g[x][y]\n",
    "    return edge_dict\n",
    "def kruskal(g):\n",
    "    if len(g) == 1:\n",
    "        return []\n",
    "    edge_dict = edge_dict_from_matrix(g)\n",
    "    colored_nodes = {}\n",
    "    colored_edges = {}\n",
    "    marker_color = 0\n",
    "    #print(len(edge_dict))\n",
    "    #print(edge_dict)\n",
    "    for w in sorted(edge_dict, key=edge_dict.get):\n",
    "        #print(w, edge_dict[w])\n",
    "        if w[0] not in colored_nodes.keys() and w[1] not in colored_nodes.keys():\n",
    "            #print(f'new edges new nodes {w} mark it {marker_color}')\n",
    "            colored_nodes[w[0]] = marker_color\n",
    "            colored_nodes[w[1]] = marker_color\n",
    "            colored_edges[w] = marker_color\n",
    "            marker_color=marker_color+1\n",
    "        elif w[0] not in colored_nodes.keys() and w[1] in colored_nodes.keys():\n",
    "            #print(f'w[0] = {w[0]} not in nodes, w[1]={w[1]} in ')\n",
    "            colored_nodes[w[0]] = colored_nodes[w[1]]\n",
    "            colored_edges[w] =  colored_nodes[w[1]]\n",
    "        elif w[0] in colored_nodes.keys() and w[1] not in colored_nodes.keys():\n",
    "            #print(f'w[0] = {w[0]} in nodes, w[1]={w[1]} not  in ')\n",
    "            colored_nodes[w[1]] = colored_nodes[w[0]]\n",
    "            colored_edges[w] =  colored_nodes[w[0]]\n",
    "        else:\n",
    "            if colored_nodes[w[0]] == colored_nodes[w[1]]:\n",
    "                #print(f'got cycle for {w}')\n",
    "                continue\n",
    "            else:\n",
    "                #print(f'lets merge because of {w}')\n",
    "                tree_first = get_tree_by_color(colored_edges,colored_nodes[w[0]])\n",
    "                tree_sec = get_tree_by_color(colored_edges,colored_nodes[w[1]])\n",
    "                len_first = len(tree_first)\n",
    "                len_second = len(tree_sec)\n",
    "                if len_first > len_second:\n",
    "                    #recolor nodes w[1] -> w[0]\n",
    "                    color_for_change = colored_nodes[w[1]]\n",
    "                    for node,col in colored_nodes.items():\n",
    "                        if col == color_for_change:\n",
    "                            colored_nodes[node] = colored_nodes[w[0]]\n",
    "                    #recolor edges from w[1] -> w[0]\n",
    "                    for x in tree_sec:\n",
    "                        colored_edges[x] = colored_nodes[w[0]]\n",
    "                    colored_edges[w] = colored_nodes[w[0]]\n",
    "                else:\n",
    "                    #recolor nodes w[0] -> w[1]\n",
    "                    color_for_change = colored_nodes[w[0]]\n",
    "                    for node,col in colored_nodes.items():\n",
    "                        if col == color_for_change:\n",
    "                            colored_nodes[node] = colored_nodes[w[1]]\n",
    "                    #recolor edges from w[0] -> w[1]\n",
    "                    for x in tree_first:\n",
    "                        colored_edges[x] = colored_nodes[w[1]]\n",
    "                    colored_edges[w] = colored_nodes[w[1]]\n",
    "    #print(colored_edges)\n",
    "    return [x for x in colored_edges.keys()]\n",
    "def points_to_matrix(points):\n",
    "    g=[]\n",
    "    for x,y in points:\n",
    "        g.append([0] * len(points))\n",
    "        for i in range(len(points)):\n",
    "            g[-1][i] = ((x-points[i][0])**2 + (y - points[i][1])**2)**(1/2)\n",
    "    return g\n",
    "def count_accur(edge_lst,node):\n",
    "    count = 0\n",
    "    for x in edge_lst:\n",
    "        if node in x:\n",
    "            count+=1\n",
    "    return count\n",
    "\n",
    "def get_even_degree_vertex(edge_lst,nodes):\n",
    "    res = []\n",
    "    for x in range(nodes):\n",
    "        if count_accur(edge_lst,x) % 2 == 0:\n",
    "            res.append(x)\n",
    "    return res\n",
    "\n",
    "\n",
    "def make_graph_full(verteses,graph):\n",
    "    for j in verteses:\n",
    "        for i in range(len(graph)):\n",
    "            graph[j][i] = np.inf\n",
    "        for i in range(len(graph)):\n",
    "            graph[i][j] = np.inf\n",
    "    return graph\n",
    "def find_edge_by_vertex(edges,vert):\n",
    "    for i in range(len(edges)):\n",
    "        if vert in edges[i]:\n",
    "            return i\n",
    "    return False\n",
    "\n",
    "def dfs(v,graph,visited,res):\n",
    "    #print(v)\n",
    "    visited[v] = True\n",
    "    res.append(v)\n",
    "    #print(f\"visited vertice V! {v}\")\n",
    "    for x in graph:\n",
    "        if v == x[0]:\n",
    "            if not visited[x[1]]:\n",
    "                dfs(x[1],graph,visited,res)\n",
    "        if v == x[1]:\n",
    "            if not visited[x[0]]:\n",
    "                dfs(x[0],graph,visited,res)\n",
    "    #print(\"Finished exploring\")\n",
    "\n",
    "def find_eucl_cycle(graph,n):   \n",
    "    visited = []\n",
    "    visited = [False for i in range(n)]\n",
    "    res = []\n",
    "    dfs(0,graph,visited,res)\n",
    "    #print(res)\n",
    "    return res +[0]\n",
    "\n",
    "\n",
    "# def from_idx_to_point(idx_of_path,points):\n",
    "#     res =[]\n",
    "#     for x in idx_of_path:\n",
    "#         print(x)\n",
    "#         res.append(points[x])\n",
    "#     print(res)\n",
    "#     return res\n",
    "\n",
    "def tsp(points):\n",
    "    # Write code here.\n",
    "    # points to adjancy matrix\n",
    "    #print(points)\n",
    "    points = points[1:]\n",
    "    g = points_to_matrix(points)\n",
    "    #print('+++++++++++++++++')\n",
    "    #for x in g:\n",
    "        #print(x)\n",
    "    #print('+++++++++++++++++')\n",
    "    # compute minimal spanning tree\n",
    "    min_span_tree = kruskal(g)\n",
    "#     print('min_span_tree')\n",
    "#     print(min_span_tree)\n",
    "#     print(\"+++++++++++++\")\n",
    "#     # select nodes of odd degree\n",
    "#     even_degree_vertex = get_even_degree_vertex(min_span_tree,len(points))\n",
    "#     print(f'even_degree = {even_degree_vertex}')\n",
    "#     g_odd_degree = make_graph_full(even_degree_vertex,g)\n",
    "#     print('+++++++++++++++++')\n",
    "#     for x in g_odd_degree:\n",
    "#         print(x)\n",
    "#     print('+++++++++++++++++')\n",
    "#     match_slow = find_minimum_weight_matching_slow(g_odd_degree)\n",
    "#     print(f'match_slow {match_slow}')\n",
    "#     match_slow = list(match_slow)\n",
    "#     merge_edges_g = min_span_tree + match_slow[:1]\n",
    "#     print(f'merge_edges_g = {merge_edges_g}')\n",
    "    idx_of_path = find_eucl_cycle(min_span_tree,len(points))\n",
    "    return [x + 1 for x in idx_of_path]\n",
    "    #  \n",
    "\n",
    "\n",
    "\n",
    "def find_minimum_weight_matching_slow(graph):\n",
    "    #print(f'find_minimum_weight_matching_slow input {graph}')\n",
    "    # Graph should have an even number of vertices to have a perfect\n",
    "    # matching.\n",
    "    #assert len(graph) % 2 == 0\n",
    "    new_graph = []\n",
    "    if len(graph) % 2 != 0:\n",
    "        for i in range(0,len(graph)-1):\n",
    "            graph[i] = graph[i][:-1]\n",
    "            #new_graph.append(graph[i][:-1])\n",
    "        graph.pop()\n",
    "    import itertools\n",
    "\n",
    "    def score(matching):\n",
    "        result = 0\n",
    "        for u, v in matching:\n",
    "            result += graph[u][v]\n",
    "        return result\n",
    "\n",
    "    best = None\n",
    "    for permutation in itertools.permutations(range(len(graph))):\n",
    "        matching = []\n",
    "        for i in range(0, len(graph), 2):\n",
    "            matching.append((permutation[i], permutation[i + 1]))\n",
    "        if best is None or score(matching) < score(best):\n",
    "            best = matching\n",
    "\n",
    "    return best\n",
    "\n",
    "\n",
    "\n",
    "# def tsp(points):\n",
    "#     \"\"\"Return one of the shortest tours that touches all points.\n",
    "    \n",
    "#     Input:  A list of the form [n, (x_1, y_1), ..., (x_n, y_n)],\n",
    "#             where n is the number of points on a plane and (x_i, y_i) are their coordinates.\n",
    "#             We assume the Euclidean distance between the points (see the distance function below).\n",
    "#     Output: A list of point indices that corresponds to one of the shortes tours\n",
    "#             that start and end at point (x_1, y_1) and goe through each other point exactly once.\n",
    "            \n",
    "#     \"\"\"\n",
    "#     path = []\n",
    "#     # your code here\n",
    "    \n",
    "#     return path\n",
    "\n",
    "\n",
    "# your code here\n",
    "\n"
   ]
  },
  {
   "cell_type": "markdown",
   "metadata": {
    "deletable": false,
    "editable": false,
    "nbgrader": {
     "cell_type": "markdown",
     "checksum": "81c58d2387344fc16393a58a82ae08b9",
     "grade": false,
     "grade_id": "cell-13401c13c017b3b5",
     "locked": true,
     "schema_version": 3,
     "solution": false,
     "task": false
    }
   },
   "source": [
    "# Testing code"
   ]
  },
  {
   "cell_type": "code",
   "execution_count": 16,
   "metadata": {
    "deletable": false,
    "editable": false,
    "nbgrader": {
     "cell_type": "code",
     "checksum": "94d3e456627c342a8bbe33cfb2a22706",
     "grade": true,
     "grade_id": "cell-441d79d04da2b037",
     "locked": true,
     "points": 0,
     "schema_version": 3,
     "solution": false,
     "task": false
    }
   },
   "outputs": [
    {
     "name": "stdout",
     "output_type": "stream",
     "text": [
      "Baseline path:  4.0\n",
      "Short path:  4.0\n",
      "Your path:  4.0\n",
      "Baseline path:  50.91168824543143\n",
      "Short path:  50.91168824543143\n",
      "Your path:  50.91168824543143\n"
     ]
    }
   ],
   "source": [
    "import math\n",
    "\n",
    "def distance(p, q):\n",
    "    \"\"\"Return the Euclidean distance between points p = (a, b) and q = (c, d).\"\"\"\n",
    "    return ((p[0]-q[0])**2 + (p[1]-q[1])**2) ** 0.5\n",
    "\n",
    "\n",
    "def get_length(path, points):\n",
    "    \"\"\"Return the length of the path.\n",
    "    \n",
    "    Input:  path is a list of point indices;\n",
    "            points is a list of the form [n, (x_1, y_1), ..., (x_n, y_n)],\n",
    "            where n is the number of points on a plane and (x_i, y_i) are their coordinates. \n",
    "    Output: The length of the input path\n",
    "            assuming the coordinates specified in the input\n",
    "            and the Euclidean distance between the points.\n",
    "    \"\"\"\n",
    "    return sum(distance(points[path[i]], points[path[i+1]]) for i in range(len(path) - 1))\n",
    "        \n",
    "    \n",
    "\n",
    "\n",
    "def run_tsp(points, queue):\n",
    "    queue.put(tsp(points))\n",
    "\n",
    "\n",
    "def test(points, baseline_path, short_path):\n",
    "    \"\"\"Test the tsp function on points.\n",
    "    \n",
    "    baseline_path is the length of a simple solution.\n",
    "    short_path is the length of a good solution.\n",
    "    \n",
    "    Your solution should run for at most 30 seconds\n",
    "    and should return a path of length less than than baseline_path\n",
    "    (the only exception is when baseline_path is almost equal to short_path;\n",
    "    in this case, it is OK to return a path of similar length).\n",
    "    The score you get depends on how short your path is. The score is the returned value of the function.\n",
    "    \n",
    "    \"\"\"\n",
    "    print(\"Baseline path: \", baseline_path)\n",
    "    print(\"Short path: \", short_path)\n",
    "    n = points[0]\n",
    "\n",
    "    path = tsp(points)\n",
    "    \n",
    "    assert len(path) == n + 1, \"The route must contain n + 1 points.\"\n",
    "    assert path[0] == 1 == path[-1], \"The route should start and end at point 1.\"\n",
    "    assert set(path) == set(range(1, n + 1)), \"The route must contain all n points.\"\n",
    "\n",
    "    length = get_length(path, points)\n",
    "    print(\"Your path: \", length)\n",
    "    if length <= short_path + 0.00001: # If your path is just slightly longer than short_path or shorter, you get 10. \n",
    "        return 10.0    \n",
    "    if length >= baseline_path: # If it is the same as the baseline or longer, you get 1.\n",
    "        return 1\n",
    "    # Otherwise, the number of points you get depends on how close your path is to short_path.\n",
    "    return math.ceil((baseline_path-length) / (baseline_path-short_path) * 10)\n",
    "    \n",
    "\n",
    "# Square 1 x 1. Your algorithm is expected to find a shortest tour, e.g., [1, 3, 2, 4, 1].\n",
    "points = [4, (0, 0), (1, 1), (0, 1), (1, 0)]\n",
    "length = get_length([1, 3, 2, 4, 1], points)\n",
    "assert test(points, length, length) == 10\n",
    "\n",
    "\n",
    "# Line y = x + 1. Your algorithm is expected to find a shortest tour, e.g., [1, 2, 3, 4, 5, 6, 7, 8, 9, 10, 1].\n",
    "points = [10, (1, 2), (3, 4), (5, 6), (7, 8), (9, 10), (11, 12), (13, 14), (15, 16), (17, 18), (19, 20)]\n",
    "length = get_length([1, 2, 3, 4, 5, 6, 7, 8, 9, 10, 1], points)\n",
    "assert test(points, length, length) == 10"
   ]
  },
  {
   "cell_type": "markdown",
   "metadata": {
    "deletable": false,
    "editable": false,
    "nbgrader": {
     "cell_type": "markdown",
     "checksum": "97f8f61bf12827ca9f4df24ac7b9ff4a",
     "grade": false,
     "grade_id": "cell-6e653de6a6fd6fed",
     "locked": true,
     "schema_version": 3,
     "solution": false,
     "task": false
    }
   },
   "source": [
    "# Test with 25 points"
   ]
  },
  {
   "cell_type": "code",
   "execution_count": 30,
   "metadata": {
    "deletable": false,
    "editable": false,
    "nbgrader": {
     "cell_type": "code",
     "checksum": "cd4b7038317537fddb62247d5e0d2de1",
     "grade": true,
     "grade_id": "cell-bf1c3b79c2c7f67d",
     "locked": true,
     "points": 10,
     "schema_version": 3,
     "solution": false,
     "task": false
    }
   },
   "outputs": [
    {
     "name": "stdout",
     "output_type": "stream",
     "text": [
      "Baseline path:  114926.50306081345\n",
      "Short path:  114926.50306081343\n",
      "Your path:  134746.6351921037\n"
     ]
    },
    {
     "data": {
      "text/plain": [
       "1"
      ]
     },
     "execution_count": 30,
     "metadata": {},
     "output_type": "execute_result"
    }
   ],
   "source": [
    "points = [25,\n",
    "          (6139, -9327),\n",
    "          (7524, 9018),\n",
    "          (-8201, -4582),\n",
    "          (5277, -13042),\n",
    "          (2541, 156),\n",
    "          (-6748, 14001),\n",
    "          (12371, 6187),\n",
    "          (-3191, 3754),\n",
    "          (-14173, 11185),\n",
    "          (1725, 14670),\n",
    "          (-14467, 12589),\n",
    "          (-703, -13791),\n",
    "          (6151, -7013),\n",
    "          (1367, 14568),\n",
    "          (-13867, 14509),\n",
    "          (405, -6256),\n",
    "          (6185, -13240),\n",
    "          (7325, 5230),\n",
    "          (845, 339),\n",
    "          (7181, -2898),\n",
    "          (-2921, -4544),\n",
    "          (10395, 808),\n",
    "          (11313, 2696),\n",
    "          (-5320, 11409),\n",
    "          (3790, 10442)\n",
    "         ]\n",
    "\n",
    "baseline = get_length(\n",
    "    [1, 13, 20, 22, 23, 7, 18, 2, 25, 10, 14, 24, 6, 15, 11, 9, 8, 19, 5, 16, 21, 3, 12, 4, 17, 1],\n",
    "    points)\n",
    "short = get_length(\n",
    "    [1, 17, 4, 12, 3, 21, 16, 5, 19, 8, 9, 11, 15, 6, 24, 14, 10, 25, 2, 18, 7, 23, 22, 20, 13, 1],\n",
    "    points)\n",
    "\n",
    "test(points, baseline, short)"
   ]
  },
  {
   "cell_type": "markdown",
   "metadata": {
    "deletable": false,
    "editable": false,
    "nbgrader": {
     "cell_type": "markdown",
     "checksum": "fca384e91822759a4255e402f6d5da77",
     "grade": false,
     "grade_id": "cell-6afc06fc1cca0442",
     "locked": true,
     "schema_version": 3,
     "solution": false,
     "task": false
    }
   },
   "source": [
    "# Test with 45 points"
   ]
  },
  {
   "cell_type": "code",
   "execution_count": 31,
   "metadata": {
    "deletable": false,
    "editable": false,
    "nbgrader": {
     "cell_type": "code",
     "checksum": "53ff827f9b5f78f77defafd1da9eb9f7",
     "grade": true,
     "grade_id": "cell-614fe0dd38853f28",
     "locked": true,
     "points": 10,
     "schema_version": 3,
     "solution": false,
     "task": false
    }
   },
   "outputs": [
    {
     "name": "stdout",
     "output_type": "stream",
     "text": [
      "Baseline path:  2371.446723292929\n",
      "Short path:  1720.374106087737\n",
      "Your path:  2189.4405093155538\n"
     ]
    },
    {
     "data": {
      "text/plain": [
       "3"
      ]
     },
     "execution_count": 31,
     "metadata": {},
     "output_type": "execute_result"
    }
   ],
   "source": [
    "points = [45,\n",
    "          (175, 17),\n",
    "          (134, 299),\n",
    "          (244, 76),\n",
    "          (17, 61),\n",
    "          (111, 273),\n",
    "          (195, 170),\n",
    "          (155, 209),\n",
    "          (57, 251),\n",
    "          (57, 47),\n",
    "          (100, 176),\n",
    "          (182, 251),\n",
    "          (272, 126),\n",
    "          (213, 232),\n",
    "          (131, 52),\n",
    "          (174, 201),\n",
    "          (239, 281),\n",
    "          (8, 40),\n",
    "          (142, 14),\n",
    "          (298, 244),\n",
    "          (28, 121),\n",
    "          (151, 101),\n",
    "          (40, 203),\n",
    "          (70, 105),\n",
    "          (290, 99),\n",
    "          (294, 27),\n",
    "          (221, 153),\n",
    "          (182, 78),\n",
    "          (186, 60),\n",
    "          (70, 52),\n",
    "          (151, 70),\n",
    "          (218, 122),\n",
    "          (58, 8),\n",
    "          (240, 134),\n",
    "          (178, 40),\n",
    "          (71, 20),\n",
    "          (153, 299),\n",
    "          (25, 125),\n",
    "          (6, 148),\n",
    "          (245, 14),\n",
    "          (177, 41),\n",
    "          (237, 116),\n",
    "          (94, 16),\n",
    "          (158, 107),\n",
    "          (3, 21),\n",
    "          (194, 47)\n",
    "         ]\n",
    "\n",
    "baseline = get_length(\n",
    "    [1, 34, 40, 45, 28, 27, 30, 14, 18, 42, 35, 32, 9, 29, 23,\n",
    "     20, 37, 38, 22, 8, 5, 2, 36, 11, 13, 15, 7, 6, 26, 33, 41,\n",
    "     31, 3, 24, 12, 25, 39, 43, 21, 10, 4, 17, 44, 16, 19, 1],\n",
    "    points)\n",
    "short = get_length(\n",
    "    [1, 39, 25, 3, 24, 12, 33, 41, 31, 26, 6, 15, 7, 11, 13,\n",
    "     19, 16, 36, 2, 5, 8, 22, 10, 38, 37, 20, 23, 29, 9, 4, 17,\n",
    "     44, 32, 35, 42, 18, 14, 30, 21, 43, 27, 28, 45, 40, 34, 1],\n",
    "    points)\n",
    "\n",
    "test(points, baseline, short)"
   ]
  },
  {
   "cell_type": "markdown",
   "metadata": {
    "deletable": false,
    "editable": false,
    "nbgrader": {
     "cell_type": "markdown",
     "checksum": "1cbbfb6f1d7ae0933a4fb8be7140f48c",
     "grade": false,
     "grade_id": "cell-71ff3f40be096a85",
     "locked": true,
     "schema_version": 3,
     "solution": false,
     "task": false
    }
   },
   "source": [
    "# The other eight test cases are hidden"
   ]
  },
  {
   "cell_type": "code",
   "execution_count": 19,
   "metadata": {
    "deletable": false,
    "editable": false,
    "nbgrader": {
     "cell_type": "code",
     "checksum": "e976cf19ef59270505633d9cef1346b4",
     "grade": true,
     "grade_id": "cell-49d1f8e8e4e4eda9",
     "locked": true,
     "points": 10,
     "schema_version": 3,
     "solution": false,
     "task": false
    }
   },
   "outputs": [
    {
     "name": "stdout",
     "output_type": "stream",
     "text": [
      "Baseline path:  2371.446723292929\n",
      "Short path:  1720.374106087737\n",
      "Your path:  2189.4405093155538\n"
     ]
    },
    {
     "data": {
      "text/plain": [
       "3"
      ]
     },
     "execution_count": 19,
     "metadata": {},
     "output_type": "execute_result"
    }
   ],
   "source": [
    "# Test with 90+ points\n",
    "\n",
    "test(points, baseline, short)\n"
   ]
  },
  {
   "cell_type": "code",
   "execution_count": 20,
   "metadata": {
    "deletable": false,
    "editable": false,
    "nbgrader": {
     "cell_type": "code",
     "checksum": "6143e8321ad69419a24a1426c920ed77",
     "grade": true,
     "grade_id": "cell-06ffeb8d2227f0f5",
     "locked": true,
     "points": 10,
     "schema_version": 3,
     "solution": false,
     "task": false
    }
   },
   "outputs": [
    {
     "name": "stdout",
     "output_type": "stream",
     "text": [
      "Baseline path:  2371.446723292929\n",
      "Short path:  1720.374106087737\n",
      "Your path:  2189.4405093155538\n"
     ]
    },
    {
     "data": {
      "text/plain": [
       "3"
      ]
     },
     "execution_count": 20,
     "metadata": {},
     "output_type": "execute_result"
    }
   ],
   "source": [
    "# Test with 100+ points\n",
    "\n",
    "test(points, baseline, short)"
   ]
  },
  {
   "cell_type": "code",
   "execution_count": 21,
   "metadata": {
    "deletable": false,
    "editable": false,
    "nbgrader": {
     "cell_type": "code",
     "checksum": "2db4253791dd7d8689dd5be84608e66b",
     "grade": true,
     "grade_id": "cell-f036dc2c71cd65d8",
     "locked": true,
     "points": 10,
     "schema_version": 3,
     "solution": false,
     "task": false
    }
   },
   "outputs": [
    {
     "name": "stdout",
     "output_type": "stream",
     "text": [
      "Baseline path:  2371.446723292929\n",
      "Short path:  1720.374106087737\n",
      "Your path:  2189.4405093155538\n"
     ]
    },
    {
     "data": {
      "text/plain": [
       "3"
      ]
     },
     "execution_count": 21,
     "metadata": {},
     "output_type": "execute_result"
    }
   ],
   "source": [
    "# Test with 200+ points\n",
    "\n",
    "test(points, baseline, short)\n"
   ]
  },
  {
   "cell_type": "code",
   "execution_count": 22,
   "metadata": {
    "deletable": false,
    "editable": false,
    "nbgrader": {
     "cell_type": "code",
     "checksum": "42c5ca5d3ed1a921fe9b60db23eddf9f",
     "grade": true,
     "grade_id": "cell-0a51b6805b2af955",
     "locked": true,
     "points": 10,
     "schema_version": 3,
     "solution": false,
     "task": false
    }
   },
   "outputs": [
    {
     "name": "stdout",
     "output_type": "stream",
     "text": [
      "Baseline path:  2371.446723292929\n",
      "Short path:  1720.374106087737\n",
      "Your path:  2189.4405093155538\n"
     ]
    },
    {
     "data": {
      "text/plain": [
       "3"
      ]
     },
     "execution_count": 22,
     "metadata": {},
     "output_type": "execute_result"
    }
   ],
   "source": [
    "# Test with 700+ points\n",
    "\n",
    "test(points, baseline, short)"
   ]
  },
  {
   "cell_type": "code",
   "execution_count": 23,
   "metadata": {
    "deletable": false,
    "editable": false,
    "nbgrader": {
     "cell_type": "code",
     "checksum": "c93c6fa1ab24eb39e7b3af4e22a209a6",
     "grade": true,
     "grade_id": "cell-eb7c80d184e69ea9",
     "locked": true,
     "points": 10,
     "schema_version": 3,
     "solution": false,
     "task": false
    }
   },
   "outputs": [
    {
     "name": "stdout",
     "output_type": "stream",
     "text": [
      "Baseline path:  2371.446723292929\n",
      "Short path:  1720.374106087737\n",
      "Your path:  2189.4405093155538\n"
     ]
    },
    {
     "data": {
      "text/plain": [
       "3"
      ]
     },
     "execution_count": 23,
     "metadata": {},
     "output_type": "execute_result"
    }
   ],
   "source": [
    "# Test with 600+ points\n",
    "\n",
    "test(points, baseline, short)"
   ]
  },
  {
   "cell_type": "code",
   "execution_count": 24,
   "metadata": {
    "deletable": false,
    "editable": false,
    "nbgrader": {
     "cell_type": "code",
     "checksum": "9f055d49de279afa2eb4cda5748d03f1",
     "grade": true,
     "grade_id": "cell-d559a2ed14195325",
     "locked": true,
     "points": 10,
     "schema_version": 3,
     "solution": false,
     "task": false
    }
   },
   "outputs": [
    {
     "name": "stdout",
     "output_type": "stream",
     "text": [
      "Baseline path:  2371.446723292929\n",
      "Short path:  1720.374106087737\n",
      "Your path:  2189.4405093155538\n"
     ]
    },
    {
     "data": {
      "text/plain": [
       "3"
      ]
     },
     "execution_count": 24,
     "metadata": {},
     "output_type": "execute_result"
    }
   ],
   "source": [
    "# Test with 900+ points\n",
    "\n",
    "test(points, baseline, short)"
   ]
  },
  {
   "cell_type": "code",
   "execution_count": 25,
   "metadata": {
    "deletable": false,
    "editable": false,
    "nbgrader": {
     "cell_type": "code",
     "checksum": "82ca31a5d9bfd4a9911c914f48774c97",
     "grade": true,
     "grade_id": "cell-6fb8cfd2054db547",
     "locked": true,
     "points": 10,
     "schema_version": 3,
     "solution": false,
     "task": false
    }
   },
   "outputs": [
    {
     "name": "stdout",
     "output_type": "stream",
     "text": [
      "Baseline path:  2371.446723292929\n",
      "Short path:  1720.374106087737\n",
      "Your path:  2189.4405093155538\n"
     ]
    },
    {
     "data": {
      "text/plain": [
       "3"
      ]
     },
     "execution_count": 25,
     "metadata": {},
     "output_type": "execute_result"
    }
   ],
   "source": [
    "# Test with 900+ points\n",
    "\n",
    "test(points, baseline, short)"
   ]
  },
  {
   "cell_type": "code",
   "execution_count": 26,
   "metadata": {
    "deletable": false,
    "editable": false,
    "nbgrader": {
     "cell_type": "code",
     "checksum": "873dee2d064283bcd50c1a5980235b88",
     "grade": true,
     "grade_id": "cell-d8d481e144c15ddf",
     "locked": true,
     "points": 10,
     "schema_version": 3,
     "solution": false,
     "task": false
    }
   },
   "outputs": [
    {
     "name": "stdout",
     "output_type": "stream",
     "text": [
      "Baseline path:  2371.446723292929\n",
      "Short path:  1720.374106087737\n",
      "Your path:  2189.4405093155538\n"
     ]
    },
    {
     "data": {
      "text/plain": [
       "3"
      ]
     },
     "execution_count": 26,
     "metadata": {},
     "output_type": "execute_result"
    }
   ],
   "source": [
    "# Test with 3000 points\n",
    "\n",
    "test(points, baseline, short)"
   ]
  },
  {
   "cell_type": "code",
   "execution_count": null,
   "metadata": {},
   "outputs": [],
   "source": []
  }
 ],
 "metadata": {
  "kernelspec": {
   "display_name": "Python 3",
   "language": "python",
   "name": "python3"
  },
  "language_info": {
   "codemirror_mode": {
    "name": "ipython",
    "version": 3
   },
   "file_extension": ".py",
   "mimetype": "text/x-python",
   "name": "python",
   "nbconvert_exporter": "python",
   "pygments_lexer": "ipython3",
   "version": "3.8.3"
  }
 },
 "nbformat": 4,
 "nbformat_minor": 4
}
